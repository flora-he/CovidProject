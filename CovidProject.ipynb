{
 "cells": [
  {
   "cell_type": "code",
   "execution_count": 3,
   "metadata": {},
   "outputs": [
    {
     "data": {
      "text/html": [
       "<div>\n",
       "<style scoped>\n",
       "    .dataframe tbody tr th:only-of-type {\n",
       "        vertical-align: middle;\n",
       "    }\n",
       "\n",
       "    .dataframe tbody tr th {\n",
       "        vertical-align: top;\n",
       "    }\n",
       "\n",
       "    .dataframe thead th {\n",
       "        text-align: right;\n",
       "    }\n",
       "</style>\n",
       "<table border=\"1\" class=\"dataframe\">\n",
       "  <thead>\n",
       "    <tr style=\"text-align: right;\">\n",
       "      <th></th>\n",
       "      <th>FIPS</th>\n",
       "      <th>Admin2</th>\n",
       "      <th>Province_State</th>\n",
       "      <th>Country_Region</th>\n",
       "      <th>Last_Update</th>\n",
       "      <th>Lat</th>\n",
       "      <th>Long_</th>\n",
       "      <th>Confirmed</th>\n",
       "      <th>Deaths</th>\n",
       "      <th>Recovered</th>\n",
       "      <th>Active</th>\n",
       "      <th>Combined_Key</th>\n",
       "    </tr>\n",
       "  </thead>\n",
       "  <tbody>\n",
       "    <tr>\n",
       "      <th>0</th>\n",
       "      <td>45001.0</td>\n",
       "      <td>Abbeville</td>\n",
       "      <td>South Carolina</td>\n",
       "      <td>US</td>\n",
       "      <td>2020-05-28 02:32:31</td>\n",
       "      <td>34.223334</td>\n",
       "      <td>-82.461707</td>\n",
       "      <td>35</td>\n",
       "      <td>0</td>\n",
       "      <td>0</td>\n",
       "      <td>35</td>\n",
       "      <td>Abbeville, South Carolina, US</td>\n",
       "    </tr>\n",
       "    <tr>\n",
       "      <th>1</th>\n",
       "      <td>22001.0</td>\n",
       "      <td>Acadia</td>\n",
       "      <td>Louisiana</td>\n",
       "      <td>US</td>\n",
       "      <td>2020-05-28 02:32:31</td>\n",
       "      <td>30.295065</td>\n",
       "      <td>-92.414197</td>\n",
       "      <td>397</td>\n",
       "      <td>22</td>\n",
       "      <td>0</td>\n",
       "      <td>375</td>\n",
       "      <td>Acadia, Louisiana, US</td>\n",
       "    </tr>\n",
       "    <tr>\n",
       "      <th>2</th>\n",
       "      <td>51001.0</td>\n",
       "      <td>Accomack</td>\n",
       "      <td>Virginia</td>\n",
       "      <td>US</td>\n",
       "      <td>2020-05-28 02:32:31</td>\n",
       "      <td>37.767072</td>\n",
       "      <td>-75.632346</td>\n",
       "      <td>780</td>\n",
       "      <td>12</td>\n",
       "      <td>0</td>\n",
       "      <td>768</td>\n",
       "      <td>Accomack, Virginia, US</td>\n",
       "    </tr>\n",
       "    <tr>\n",
       "      <th>3</th>\n",
       "      <td>16001.0</td>\n",
       "      <td>Ada</td>\n",
       "      <td>Idaho</td>\n",
       "      <td>US</td>\n",
       "      <td>2020-05-28 02:32:31</td>\n",
       "      <td>43.452658</td>\n",
       "      <td>-116.241552</td>\n",
       "      <td>798</td>\n",
       "      <td>22</td>\n",
       "      <td>0</td>\n",
       "      <td>776</td>\n",
       "      <td>Ada, Idaho, US</td>\n",
       "    </tr>\n",
       "    <tr>\n",
       "      <th>4</th>\n",
       "      <td>19001.0</td>\n",
       "      <td>Adair</td>\n",
       "      <td>Iowa</td>\n",
       "      <td>US</td>\n",
       "      <td>2020-05-28 02:32:31</td>\n",
       "      <td>41.330756</td>\n",
       "      <td>-94.471059</td>\n",
       "      <td>7</td>\n",
       "      <td>0</td>\n",
       "      <td>0</td>\n",
       "      <td>7</td>\n",
       "      <td>Adair, Iowa, US</td>\n",
       "    </tr>\n",
       "    <tr>\n",
       "      <th>...</th>\n",
       "      <td>...</td>\n",
       "      <td>...</td>\n",
       "      <td>...</td>\n",
       "      <td>...</td>\n",
       "      <td>...</td>\n",
       "      <td>...</td>\n",
       "      <td>...</td>\n",
       "      <td>...</td>\n",
       "      <td>...</td>\n",
       "      <td>...</td>\n",
       "      <td>...</td>\n",
       "      <td>...</td>\n",
       "    </tr>\n",
       "    <tr>\n",
       "      <th>3409</th>\n",
       "      <td>NaN</td>\n",
       "      <td>NaN</td>\n",
       "      <td>NaN</td>\n",
       "      <td>West Bank and Gaza</td>\n",
       "      <td>2020-05-28 02:32:31</td>\n",
       "      <td>31.952200</td>\n",
       "      <td>35.233200</td>\n",
       "      <td>434</td>\n",
       "      <td>3</td>\n",
       "      <td>365</td>\n",
       "      <td>66</td>\n",
       "      <td>West Bank and Gaza</td>\n",
       "    </tr>\n",
       "    <tr>\n",
       "      <th>3410</th>\n",
       "      <td>NaN</td>\n",
       "      <td>NaN</td>\n",
       "      <td>NaN</td>\n",
       "      <td>Western Sahara</td>\n",
       "      <td>2020-05-28 02:32:31</td>\n",
       "      <td>24.215500</td>\n",
       "      <td>-12.885800</td>\n",
       "      <td>9</td>\n",
       "      <td>1</td>\n",
       "      <td>6</td>\n",
       "      <td>2</td>\n",
       "      <td>Western Sahara</td>\n",
       "    </tr>\n",
       "    <tr>\n",
       "      <th>3411</th>\n",
       "      <td>NaN</td>\n",
       "      <td>NaN</td>\n",
       "      <td>NaN</td>\n",
       "      <td>Yemen</td>\n",
       "      <td>2020-05-28 02:32:31</td>\n",
       "      <td>15.552727</td>\n",
       "      <td>48.516388</td>\n",
       "      <td>256</td>\n",
       "      <td>53</td>\n",
       "      <td>10</td>\n",
       "      <td>193</td>\n",
       "      <td>Yemen</td>\n",
       "    </tr>\n",
       "    <tr>\n",
       "      <th>3412</th>\n",
       "      <td>NaN</td>\n",
       "      <td>NaN</td>\n",
       "      <td>NaN</td>\n",
       "      <td>Zambia</td>\n",
       "      <td>2020-05-28 02:32:31</td>\n",
       "      <td>-13.133897</td>\n",
       "      <td>27.849332</td>\n",
       "      <td>1057</td>\n",
       "      <td>7</td>\n",
       "      <td>779</td>\n",
       "      <td>271</td>\n",
       "      <td>Zambia</td>\n",
       "    </tr>\n",
       "    <tr>\n",
       "      <th>3413</th>\n",
       "      <td>NaN</td>\n",
       "      <td>NaN</td>\n",
       "      <td>NaN</td>\n",
       "      <td>Zimbabwe</td>\n",
       "      <td>2020-05-28 02:32:31</td>\n",
       "      <td>-19.015438</td>\n",
       "      <td>29.154857</td>\n",
       "      <td>132</td>\n",
       "      <td>4</td>\n",
       "      <td>25</td>\n",
       "      <td>103</td>\n",
       "      <td>Zimbabwe</td>\n",
       "    </tr>\n",
       "  </tbody>\n",
       "</table>\n",
       "<p>3414 rows × 12 columns</p>\n",
       "</div>"
      ],
      "text/plain": [
       "         FIPS     Admin2  Province_State      Country_Region  \\\n",
       "0     45001.0  Abbeville  South Carolina                  US   \n",
       "1     22001.0     Acadia       Louisiana                  US   \n",
       "2     51001.0   Accomack        Virginia                  US   \n",
       "3     16001.0        Ada           Idaho                  US   \n",
       "4     19001.0      Adair            Iowa                  US   \n",
       "...       ...        ...             ...                 ...   \n",
       "3409      NaN        NaN             NaN  West Bank and Gaza   \n",
       "3410      NaN        NaN             NaN      Western Sahara   \n",
       "3411      NaN        NaN             NaN               Yemen   \n",
       "3412      NaN        NaN             NaN              Zambia   \n",
       "3413      NaN        NaN             NaN            Zimbabwe   \n",
       "\n",
       "              Last_Update        Lat       Long_  Confirmed  Deaths  \\\n",
       "0     2020-05-28 02:32:31  34.223334  -82.461707         35       0   \n",
       "1     2020-05-28 02:32:31  30.295065  -92.414197        397      22   \n",
       "2     2020-05-28 02:32:31  37.767072  -75.632346        780      12   \n",
       "3     2020-05-28 02:32:31  43.452658 -116.241552        798      22   \n",
       "4     2020-05-28 02:32:31  41.330756  -94.471059          7       0   \n",
       "...                   ...        ...         ...        ...     ...   \n",
       "3409  2020-05-28 02:32:31  31.952200   35.233200        434       3   \n",
       "3410  2020-05-28 02:32:31  24.215500  -12.885800          9       1   \n",
       "3411  2020-05-28 02:32:31  15.552727   48.516388        256      53   \n",
       "3412  2020-05-28 02:32:31 -13.133897   27.849332       1057       7   \n",
       "3413  2020-05-28 02:32:31 -19.015438   29.154857        132       4   \n",
       "\n",
       "      Recovered  Active                   Combined_Key  \n",
       "0             0      35  Abbeville, South Carolina, US  \n",
       "1             0     375          Acadia, Louisiana, US  \n",
       "2             0     768         Accomack, Virginia, US  \n",
       "3             0     776                 Ada, Idaho, US  \n",
       "4             0       7                Adair, Iowa, US  \n",
       "...         ...     ...                            ...  \n",
       "3409        365      66             West Bank and Gaza  \n",
       "3410          6       2                 Western Sahara  \n",
       "3411         10     193                          Yemen  \n",
       "3412        779     271                         Zambia  \n",
       "3413         25     103                       Zimbabwe  \n",
       "\n",
       "[3414 rows x 12 columns]"
      ]
     },
     "execution_count": 3,
     "metadata": {},
     "output_type": "execute_result"
    }
   ],
   "source": [
    "import numpy as np\n",
    "import pandas as pd\n",
    "import seaborn as sns\n",
    "from datetime import datetime\n",
    "import matplotlib.pyplot as plt\n",
    "%matplotlib inline\n",
    "\n",
    "covid_raw = pd.read_csv(\"maycovid.csv\")\n",
    "covid_raw"
   ]
  },
  {
   "cell_type": "code",
   "execution_count": 4,
   "metadata": {},
   "outputs": [
    {
     "data": {
      "text/plain": [
       "FIPS              float64\n",
       "Admin2             object\n",
       "Province_State     object\n",
       "Country_Region     object\n",
       "Last_Update        object\n",
       "Lat               float64\n",
       "Long_             float64\n",
       "Confirmed           int64\n",
       "Deaths              int64\n",
       "Recovered           int64\n",
       "Active              int64\n",
       "Combined_Key       object\n",
       "dtype: object"
      ]
     },
     "execution_count": 4,
     "metadata": {},
     "output_type": "execute_result"
    }
   ],
   "source": [
    "covid_raw.dtypes"
   ]
  },
  {
   "cell_type": "code",
   "execution_count": 5,
   "metadata": {},
   "outputs": [
    {
     "data": {
      "text/plain": [
       "(3414, 12)"
      ]
     },
     "execution_count": 5,
     "metadata": {},
     "output_type": "execute_result"
    }
   ],
   "source": [
    "covid_raw.shape"
   ]
  },
  {
   "cell_type": "code",
   "execution_count": 6,
   "metadata": {},
   "outputs": [
    {
     "data": {
      "text/html": [
       "<div>\n",
       "<style scoped>\n",
       "    .dataframe tbody tr th:only-of-type {\n",
       "        vertical-align: middle;\n",
       "    }\n",
       "\n",
       "    .dataframe tbody tr th {\n",
       "        vertical-align: top;\n",
       "    }\n",
       "\n",
       "    .dataframe thead th {\n",
       "        text-align: right;\n",
       "    }\n",
       "</style>\n",
       "<table border=\"1\" class=\"dataframe\">\n",
       "  <thead>\n",
       "    <tr style=\"text-align: right;\">\n",
       "      <th></th>\n",
       "      <th>Admin2</th>\n",
       "      <th>Province_State</th>\n",
       "      <th>Country_Region</th>\n",
       "      <th>Lat</th>\n",
       "      <th>Long_</th>\n",
       "      <th>Confirmed</th>\n",
       "      <th>Deaths</th>\n",
       "      <th>Recovered</th>\n",
       "      <th>Active</th>\n",
       "      <th>Combined_Key</th>\n",
       "    </tr>\n",
       "  </thead>\n",
       "  <tbody>\n",
       "    <tr>\n",
       "      <th>0</th>\n",
       "      <td>Abbeville</td>\n",
       "      <td>South Carolina</td>\n",
       "      <td>US</td>\n",
       "      <td>34.223334</td>\n",
       "      <td>-82.461707</td>\n",
       "      <td>35</td>\n",
       "      <td>0</td>\n",
       "      <td>0</td>\n",
       "      <td>35</td>\n",
       "      <td>Abbeville, South Carolina, US</td>\n",
       "    </tr>\n",
       "    <tr>\n",
       "      <th>1</th>\n",
       "      <td>Acadia</td>\n",
       "      <td>Louisiana</td>\n",
       "      <td>US</td>\n",
       "      <td>30.295065</td>\n",
       "      <td>-92.414197</td>\n",
       "      <td>397</td>\n",
       "      <td>22</td>\n",
       "      <td>0</td>\n",
       "      <td>375</td>\n",
       "      <td>Acadia, Louisiana, US</td>\n",
       "    </tr>\n",
       "    <tr>\n",
       "      <th>2</th>\n",
       "      <td>Accomack</td>\n",
       "      <td>Virginia</td>\n",
       "      <td>US</td>\n",
       "      <td>37.767072</td>\n",
       "      <td>-75.632346</td>\n",
       "      <td>780</td>\n",
       "      <td>12</td>\n",
       "      <td>0</td>\n",
       "      <td>768</td>\n",
       "      <td>Accomack, Virginia, US</td>\n",
       "    </tr>\n",
       "    <tr>\n",
       "      <th>3</th>\n",
       "      <td>Ada</td>\n",
       "      <td>Idaho</td>\n",
       "      <td>US</td>\n",
       "      <td>43.452658</td>\n",
       "      <td>-116.241552</td>\n",
       "      <td>798</td>\n",
       "      <td>22</td>\n",
       "      <td>0</td>\n",
       "      <td>776</td>\n",
       "      <td>Ada, Idaho, US</td>\n",
       "    </tr>\n",
       "    <tr>\n",
       "      <th>4</th>\n",
       "      <td>Adair</td>\n",
       "      <td>Iowa</td>\n",
       "      <td>US</td>\n",
       "      <td>41.330756</td>\n",
       "      <td>-94.471059</td>\n",
       "      <td>7</td>\n",
       "      <td>0</td>\n",
       "      <td>0</td>\n",
       "      <td>7</td>\n",
       "      <td>Adair, Iowa, US</td>\n",
       "    </tr>\n",
       "  </tbody>\n",
       "</table>\n",
       "</div>"
      ],
      "text/plain": [
       "      Admin2  Province_State Country_Region        Lat       Long_  Confirmed  \\\n",
       "0  Abbeville  South Carolina             US  34.223334  -82.461707         35   \n",
       "1     Acadia       Louisiana             US  30.295065  -92.414197        397   \n",
       "2   Accomack        Virginia             US  37.767072  -75.632346        780   \n",
       "3        Ada           Idaho             US  43.452658 -116.241552        798   \n",
       "4      Adair            Iowa             US  41.330756  -94.471059          7   \n",
       "\n",
       "   Deaths  Recovered  Active                   Combined_Key  \n",
       "0       0          0      35  Abbeville, South Carolina, US  \n",
       "1      22          0     375          Acadia, Louisiana, US  \n",
       "2      12          0     768         Accomack, Virginia, US  \n",
       "3      22          0     776                 Ada, Idaho, US  \n",
       "4       0          0       7                Adair, Iowa, US  "
      ]
     },
     "execution_count": 6,
     "metadata": {},
     "output_type": "execute_result"
    }
   ],
   "source": [
    "del_col_list = ['FIPS', 'Last_Update']\n",
    "\n",
    "covid = covid_raw.drop(del_col_list, axis=1)\n",
    "covid.head()"
   ]
  },
  {
   "cell_type": "code",
   "execution_count": 7,
   "metadata": {},
   "outputs": [
    {
     "data": {
      "text/html": [
       "<div>\n",
       "<style scoped>\n",
       "    .dataframe tbody tr th:only-of-type {\n",
       "        vertical-align: middle;\n",
       "    }\n",
       "\n",
       "    .dataframe tbody tr th {\n",
       "        vertical-align: top;\n",
       "    }\n",
       "\n",
       "    .dataframe thead th {\n",
       "        text-align: right;\n",
       "    }\n",
       "</style>\n",
       "<table border=\"1\" class=\"dataframe\">\n",
       "  <thead>\n",
       "    <tr style=\"text-align: right;\">\n",
       "      <th></th>\n",
       "      <th>County</th>\n",
       "      <th>Province_State</th>\n",
       "      <th>Country_Region</th>\n",
       "      <th>Lat</th>\n",
       "      <th>Long</th>\n",
       "      <th>Confirmed</th>\n",
       "      <th>Deaths</th>\n",
       "      <th>Recovered</th>\n",
       "      <th>Active</th>\n",
       "      <th>Combined_Key</th>\n",
       "    </tr>\n",
       "  </thead>\n",
       "  <tbody>\n",
       "    <tr>\n",
       "      <th>0</th>\n",
       "      <td>Abbeville</td>\n",
       "      <td>South Carolina</td>\n",
       "      <td>US</td>\n",
       "      <td>34.223334</td>\n",
       "      <td>-82.461707</td>\n",
       "      <td>35</td>\n",
       "      <td>0</td>\n",
       "      <td>0</td>\n",
       "      <td>35</td>\n",
       "      <td>Abbeville, South Carolina, US</td>\n",
       "    </tr>\n",
       "    <tr>\n",
       "      <th>1</th>\n",
       "      <td>Acadia</td>\n",
       "      <td>Louisiana</td>\n",
       "      <td>US</td>\n",
       "      <td>30.295065</td>\n",
       "      <td>-92.414197</td>\n",
       "      <td>397</td>\n",
       "      <td>22</td>\n",
       "      <td>0</td>\n",
       "      <td>375</td>\n",
       "      <td>Acadia, Louisiana, US</td>\n",
       "    </tr>\n",
       "    <tr>\n",
       "      <th>2</th>\n",
       "      <td>Accomack</td>\n",
       "      <td>Virginia</td>\n",
       "      <td>US</td>\n",
       "      <td>37.767072</td>\n",
       "      <td>-75.632346</td>\n",
       "      <td>780</td>\n",
       "      <td>12</td>\n",
       "      <td>0</td>\n",
       "      <td>768</td>\n",
       "      <td>Accomack, Virginia, US</td>\n",
       "    </tr>\n",
       "    <tr>\n",
       "      <th>3</th>\n",
       "      <td>Ada</td>\n",
       "      <td>Idaho</td>\n",
       "      <td>US</td>\n",
       "      <td>43.452658</td>\n",
       "      <td>-116.241552</td>\n",
       "      <td>798</td>\n",
       "      <td>22</td>\n",
       "      <td>0</td>\n",
       "      <td>776</td>\n",
       "      <td>Ada, Idaho, US</td>\n",
       "    </tr>\n",
       "    <tr>\n",
       "      <th>4</th>\n",
       "      <td>Adair</td>\n",
       "      <td>Iowa</td>\n",
       "      <td>US</td>\n",
       "      <td>41.330756</td>\n",
       "      <td>-94.471059</td>\n",
       "      <td>7</td>\n",
       "      <td>0</td>\n",
       "      <td>0</td>\n",
       "      <td>7</td>\n",
       "      <td>Adair, Iowa, US</td>\n",
       "    </tr>\n",
       "  </tbody>\n",
       "</table>\n",
       "</div>"
      ],
      "text/plain": [
       "      County  Province_State Country_Region        Lat        Long  Confirmed  \\\n",
       "0  Abbeville  South Carolina             US  34.223334  -82.461707         35   \n",
       "1     Acadia       Louisiana             US  30.295065  -92.414197        397   \n",
       "2   Accomack        Virginia             US  37.767072  -75.632346        780   \n",
       "3        Ada           Idaho             US  43.452658 -116.241552        798   \n",
       "4      Adair            Iowa             US  41.330756  -94.471059          7   \n",
       "\n",
       "   Deaths  Recovered  Active                   Combined_Key  \n",
       "0       0          0      35  Abbeville, South Carolina, US  \n",
       "1      22          0     375          Acadia, Louisiana, US  \n",
       "2      12          0     768         Accomack, Virginia, US  \n",
       "3      22          0     776                 Ada, Idaho, US  \n",
       "4       0          0       7                Adair, Iowa, US  "
      ]
     },
     "execution_count": 7,
     "metadata": {},
     "output_type": "execute_result"
    }
   ],
   "source": [
    "covid.columns = covid.columns.str.replace('Admin2','County')\n",
    "covid.columns = covid.columns.str.replace('Long_','Long')\n",
    "covid.head()"
   ]
  },
  {
   "cell_type": "code",
   "execution_count": 8,
   "metadata": {},
   "outputs": [
    {
     "name": "stdout",
     "output_type": "stream",
     "text": [
      "(3414, 10)\n",
      "(0, 10)\n"
     ]
    }
   ],
   "source": [
    "print(covid.shape)\n",
    "duplicate_rows_covid = covid[covid.duplicated()]\n",
    "print(duplicate_rows_covid.shape)"
   ]
  },
  {
   "cell_type": "code",
   "execution_count": 9,
   "metadata": {},
   "outputs": [
    {
     "data": {
      "text/plain": [
       "Index(['County', 'Province_State', 'Country_Region', 'Lat', 'Long',\n",
       "       'Confirmed', 'Deaths', 'Recovered', 'Active', 'Combined_Key'],\n",
       "      dtype='object')"
      ]
     },
     "execution_count": 9,
     "metadata": {},
     "output_type": "execute_result"
    }
   ],
   "source": [
    "covid.columns"
   ]
  },
  {
   "cell_type": "code",
   "execution_count": 10,
   "metadata": {
    "scrolled": false
   },
   "outputs": [
    {
     "name": "stdout",
     "output_type": "stream",
     "text": [
      "County            401\n",
      "Province_State    178\n",
      "Country_Region      0\n",
      "Lat                68\n",
      "Long               68\n",
      "Confirmed           0\n",
      "Deaths              0\n",
      "Recovered           0\n",
      "Active              0\n",
      "Combined_Key        0\n",
      "dtype: int64\n"
     ]
    }
   ],
   "source": [
    "print(covid.isnull().sum())"
   ]
  },
  {
   "cell_type": "code",
   "execution_count": 11,
   "metadata": {},
   "outputs": [
    {
     "data": {
      "text/plain": [
       "<seaborn.axisgrid.PairGrid at 0x1a20123550>"
      ]
     },
     "execution_count": 11,
     "metadata": {},
     "output_type": "execute_result"
    },
    {
     "data": {
      "image/png": "[encoded data removed]",
      "text/plain": [
       "<Figure size 1080x1080 with 42 Axes>"
      ]
     },
     "metadata": {
      "needs_background": "light"
     },
     "output_type": "display_data"
    }
   ],
   "source": [
    "sns.pairplot(covid)\n",
    "#there appears to be more confirmed cases and more deaths as latitude increases (north)"
   ]
  },
  {
   "cell_type": "code",
   "execution_count": 12,
   "metadata": {
    "scrolled": true
   },
   "outputs": [
    {
     "data": {
      "text/plain": [
       "<seaborn.axisgrid.PairGrid at 0x1a21e02e50>"
      ]
     },
     "execution_count": 12,
     "metadata": {},
     "output_type": "execute_result"
    },
    {
     "data": {
      "image/png": "[encoded data removed]",
      "text/plain": [
       "<Figure size 540x540 with 12 Axes>"
      ]
     },
     "metadata": {
      "needs_background": "light"
     },
     "output_type": "display_data"
    }
   ],
   "source": [
    "df_related = covid[['Lat','Long','Confirmed']]\n",
    "sns.pairplot(df_related, kind='reg')"
   ]
  },
  {
   "cell_type": "code",
   "execution_count": 13,
   "metadata": {},
   "outputs": [
    {
     "data": {
      "text/html": [
       "<div>\n",
       "<style scoped>\n",
       "    .dataframe tbody tr th:only-of-type {\n",
       "        vertical-align: middle;\n",
       "    }\n",
       "\n",
       "    .dataframe tbody tr th {\n",
       "        vertical-align: top;\n",
       "    }\n",
       "\n",
       "    .dataframe thead th {\n",
       "        text-align: right;\n",
       "    }\n",
       "</style>\n",
       "<table border=\"1\" class=\"dataframe\">\n",
       "  <thead>\n",
       "    <tr style=\"text-align: right;\">\n",
       "      <th></th>\n",
       "      <th>County</th>\n",
       "      <th>Province_State</th>\n",
       "      <th>Country_Region</th>\n",
       "      <th>Lat</th>\n",
       "      <th>Long</th>\n",
       "      <th>Confirmed</th>\n",
       "      <th>Deaths</th>\n",
       "      <th>Recovered</th>\n",
       "      <th>Active</th>\n",
       "      <th>Combined_Key</th>\n",
       "    </tr>\n",
       "  </thead>\n",
       "  <tbody>\n",
       "    <tr>\n",
       "      <th>3368</th>\n",
       "      <td>NaN</td>\n",
       "      <td>NaN</td>\n",
       "      <td>Russia</td>\n",
       "      <td>61.524010</td>\n",
       "      <td>105.318756</td>\n",
       "      <td>370680</td>\n",
       "      <td>3968</td>\n",
       "      <td>142208</td>\n",
       "      <td>224504</td>\n",
       "      <td>Russia</td>\n",
       "    </tr>\n",
       "    <tr>\n",
       "      <th>3404</th>\n",
       "      <td>NaN</td>\n",
       "      <td>NaN</td>\n",
       "      <td>United Kingdom</td>\n",
       "      <td>55.378100</td>\n",
       "      <td>-3.436000</td>\n",
       "      <td>267240</td>\n",
       "      <td>37460</td>\n",
       "      <td>0</td>\n",
       "      <td>229780</td>\n",
       "      <td>United Kingdom</td>\n",
       "    </tr>\n",
       "    <tr>\n",
       "      <th>1942</th>\n",
       "      <td>New York City</td>\n",
       "      <td>New York</td>\n",
       "      <td>US</td>\n",
       "      <td>40.767273</td>\n",
       "      <td>-73.971526</td>\n",
       "      <td>199968</td>\n",
       "      <td>21362</td>\n",
       "      <td>0</td>\n",
       "      <td>178606</td>\n",
       "      <td>New York City, New York, US</td>\n",
       "    </tr>\n",
       "    <tr>\n",
       "      <th>3293</th>\n",
       "      <td>NaN</td>\n",
       "      <td>NaN</td>\n",
       "      <td>France</td>\n",
       "      <td>46.227600</td>\n",
       "      <td>2.213700</td>\n",
       "      <td>180044</td>\n",
       "      <td>28546</td>\n",
       "      <td>64503</td>\n",
       "      <td>86995</td>\n",
       "      <td>France</td>\n",
       "    </tr>\n",
       "    <tr>\n",
       "      <th>3400</th>\n",
       "      <td>NaN</td>\n",
       "      <td>NaN</td>\n",
       "      <td>Turkey</td>\n",
       "      <td>38.963700</td>\n",
       "      <td>35.243300</td>\n",
       "      <td>159797</td>\n",
       "      <td>4431</td>\n",
       "      <td>122793</td>\n",
       "      <td>32573</td>\n",
       "      <td>Turkey</td>\n",
       "    </tr>\n",
       "    <tr>\n",
       "      <th>...</th>\n",
       "      <td>...</td>\n",
       "      <td>...</td>\n",
       "      <td>...</td>\n",
       "      <td>...</td>\n",
       "      <td>...</td>\n",
       "      <td>...</td>\n",
       "      <td>...</td>\n",
       "      <td>...</td>\n",
       "      <td>...</td>\n",
       "      <td>...</td>\n",
       "    </tr>\n",
       "    <tr>\n",
       "      <th>3222</th>\n",
       "      <td>NaN</td>\n",
       "      <td>Unknown</td>\n",
       "      <td>Spain</td>\n",
       "      <td>NaN</td>\n",
       "      <td>NaN</td>\n",
       "      <td>0</td>\n",
       "      <td>0</td>\n",
       "      <td>0</td>\n",
       "      <td>0</td>\n",
       "      <td>Unknown, Spain</td>\n",
       "    </tr>\n",
       "    <tr>\n",
       "      <th>2697</th>\n",
       "      <td>Unassigned</td>\n",
       "      <td>Indiana</td>\n",
       "      <td>US</td>\n",
       "      <td>NaN</td>\n",
       "      <td>NaN</td>\n",
       "      <td>0</td>\n",
       "      <td>159</td>\n",
       "      <td>0</td>\n",
       "      <td>-159</td>\n",
       "      <td>Unassigned, Indiana, US</td>\n",
       "    </tr>\n",
       "    <tr>\n",
       "      <th>2448</th>\n",
       "      <td>Sheridan</td>\n",
       "      <td>Nebraska</td>\n",
       "      <td>US</td>\n",
       "      <td>42.502844</td>\n",
       "      <td>-102.412661</td>\n",
       "      <td>0</td>\n",
       "      <td>0</td>\n",
       "      <td>0</td>\n",
       "      <td>0</td>\n",
       "      <td>Sheridan, Nebraska, US</td>\n",
       "    </tr>\n",
       "    <tr>\n",
       "      <th>955</th>\n",
       "      <td>Garfield</td>\n",
       "      <td>Washington</td>\n",
       "      <td>US</td>\n",
       "      <td>46.431975</td>\n",
       "      <td>-117.545403</td>\n",
       "      <td>0</td>\n",
       "      <td>0</td>\n",
       "      <td>0</td>\n",
       "      <td>0</td>\n",
       "      <td>Garfield, Washington, US</td>\n",
       "    </tr>\n",
       "    <tr>\n",
       "      <th>2719</th>\n",
       "      <td>Unassigned</td>\n",
       "      <td>Oklahoma</td>\n",
       "      <td>US</td>\n",
       "      <td>NaN</td>\n",
       "      <td>NaN</td>\n",
       "      <td>0</td>\n",
       "      <td>0</td>\n",
       "      <td>0</td>\n",
       "      <td>0</td>\n",
       "      <td>Unassigned, Oklahoma, US</td>\n",
       "    </tr>\n",
       "  </tbody>\n",
       "</table>\n",
       "<p>3414 rows × 10 columns</p>\n",
       "</div>"
      ],
      "text/plain": [
       "             County Province_State  Country_Region        Lat        Long  \\\n",
       "3368            NaN            NaN          Russia  61.524010  105.318756   \n",
       "3404            NaN            NaN  United Kingdom  55.378100   -3.436000   \n",
       "1942  New York City       New York              US  40.767273  -73.971526   \n",
       "3293            NaN            NaN          France  46.227600    2.213700   \n",
       "3400            NaN            NaN          Turkey  38.963700   35.243300   \n",
       "...             ...            ...             ...        ...         ...   \n",
       "3222            NaN        Unknown           Spain        NaN         NaN   \n",
       "2697     Unassigned        Indiana              US        NaN         NaN   \n",
       "2448       Sheridan       Nebraska              US  42.502844 -102.412661   \n",
       "955        Garfield     Washington              US  46.431975 -117.545403   \n",
       "2719     Unassigned       Oklahoma              US        NaN         NaN   \n",
       "\n",
       "      Confirmed  Deaths  Recovered  Active                 Combined_Key  \n",
       "3368     370680    3968     142208  224504                       Russia  \n",
       "3404     267240   37460          0  229780               United Kingdom  \n",
       "1942     199968   21362          0  178606  New York City, New York, US  \n",
       "3293     180044   28546      64503   86995                       France  \n",
       "3400     159797    4431     122793   32573                       Turkey  \n",
       "...         ...     ...        ...     ...                          ...  \n",
       "3222          0       0          0       0               Unknown, Spain  \n",
       "2697          0     159          0    -159      Unassigned, Indiana, US  \n",
       "2448          0       0          0       0       Sheridan, Nebraska, US  \n",
       "955           0       0          0       0     Garfield, Washington, US  \n",
       "2719          0       0          0       0     Unassigned, Oklahoma, US  \n",
       "\n",
       "[3414 rows x 10 columns]"
      ]
     },
     "execution_count": 13,
     "metadata": {},
     "output_type": "execute_result"
    }
   ],
   "source": [
    "cases = covid.sort_values(by ='Confirmed', ascending=False)\n",
    "cases"
   ]
  },
  {
   "cell_type": "code",
   "execution_count": 14,
   "metadata": {
    "scrolled": true
   },
   "outputs": [
    {
     "data": {
      "text/html": [
       "<div>\n",
       "<style scoped>\n",
       "    .dataframe tbody tr th:only-of-type {\n",
       "        vertical-align: middle;\n",
       "    }\n",
       "\n",
       "    .dataframe tbody tr th {\n",
       "        vertical-align: top;\n",
       "    }\n",
       "\n",
       "    .dataframe thead th {\n",
       "        text-align: right;\n",
       "    }\n",
       "</style>\n",
       "<table border=\"1\" class=\"dataframe\">\n",
       "  <thead>\n",
       "    <tr style=\"text-align: right;\">\n",
       "      <th></th>\n",
       "      <th>Confirmed</th>\n",
       "    </tr>\n",
       "    <tr>\n",
       "      <th>Country_Region</th>\n",
       "      <th></th>\n",
       "    </tr>\n",
       "  </thead>\n",
       "  <tbody>\n",
       "    <tr>\n",
       "      <th>Russia</th>\n",
       "      <td>370680.0</td>\n",
       "    </tr>\n",
       "    <tr>\n",
       "      <th>Turkey</th>\n",
       "      <td>159797.0</td>\n",
       "    </tr>\n",
       "    <tr>\n",
       "      <th>India</th>\n",
       "      <td>158086.0</td>\n",
       "    </tr>\n",
       "    <tr>\n",
       "      <th>Iran</th>\n",
       "      <td>141591.0</td>\n",
       "    </tr>\n",
       "    <tr>\n",
       "      <th>Peru</th>\n",
       "      <td>135905.0</td>\n",
       "    </tr>\n",
       "    <tr>\n",
       "      <th>...</th>\n",
       "      <td>...</td>\n",
       "    </tr>\n",
       "    <tr>\n",
       "      <th>Seychelles</th>\n",
       "      <td>11.0</td>\n",
       "    </tr>\n",
       "    <tr>\n",
       "      <th>MS Zaandam</th>\n",
       "      <td>9.0</td>\n",
       "    </tr>\n",
       "    <tr>\n",
       "      <th>Western Sahara</th>\n",
       "      <td>9.0</td>\n",
       "    </tr>\n",
       "    <tr>\n",
       "      <th>Papua New Guinea</th>\n",
       "      <td>8.0</td>\n",
       "    </tr>\n",
       "    <tr>\n",
       "      <th>Lesotho</th>\n",
       "      <td>2.0</td>\n",
       "    </tr>\n",
       "  </tbody>\n",
       "</table>\n",
       "<p>188 rows × 1 columns</p>\n",
       "</div>"
      ],
      "text/plain": [
       "                  Confirmed\n",
       "Country_Region             \n",
       "Russia             370680.0\n",
       "Turkey             159797.0\n",
       "India              158086.0\n",
       "Iran               141591.0\n",
       "Peru               135905.0\n",
       "...                     ...\n",
       "Seychelles             11.0\n",
       "MS Zaandam              9.0\n",
       "Western Sahara          9.0\n",
       "Papua New Guinea        8.0\n",
       "Lesotho                 2.0\n",
       "\n",
       "[188 rows x 1 columns]"
      ]
     },
     "execution_count": 14,
     "metadata": {},
     "output_type": "execute_result"
    }
   ],
   "source": [
    "average_in_country = covid.groupby([\"Country_Region\"])[[\"Confirmed\"]].mean()\n",
    "average_in_country.sort_values(by='Confirmed', ascending = False)\n"
   ]
  },
  {
   "cell_type": "code",
   "execution_count": 15,
   "metadata": {
    "scrolled": true
   },
   "outputs": [
    {
     "data": {
      "text/html": [
       "<div>\n",
       "<style scoped>\n",
       "    .dataframe tbody tr th:only-of-type {\n",
       "        vertical-align: middle;\n",
       "    }\n",
       "\n",
       "    .dataframe tbody tr th {\n",
       "        vertical-align: top;\n",
       "    }\n",
       "\n",
       "    .dataframe thead th {\n",
       "        text-align: right;\n",
       "    }\n",
       "</style>\n",
       "<table border=\"1\" class=\"dataframe\">\n",
       "  <thead>\n",
       "    <tr style=\"text-align: right;\">\n",
       "      <th></th>\n",
       "      <th>3368</th>\n",
       "      <th>83</th>\n",
       "    </tr>\n",
       "  </thead>\n",
       "  <tbody>\n",
       "    <tr>\n",
       "      <th>County</th>\n",
       "      <td>NaN</td>\n",
       "      <td>Arthur</td>\n",
       "    </tr>\n",
       "    <tr>\n",
       "      <th>Province_State</th>\n",
       "      <td>NaN</td>\n",
       "      <td>Nebraska</td>\n",
       "    </tr>\n",
       "    <tr>\n",
       "      <th>Country_Region</th>\n",
       "      <td>Russia</td>\n",
       "      <td>US</td>\n",
       "    </tr>\n",
       "    <tr>\n",
       "      <th>Lat</th>\n",
       "      <td>61.524</td>\n",
       "      <td>41.569</td>\n",
       "    </tr>\n",
       "    <tr>\n",
       "      <th>Long</th>\n",
       "      <td>105.319</td>\n",
       "      <td>-101.696</td>\n",
       "    </tr>\n",
       "    <tr>\n",
       "      <th>Confirmed</th>\n",
       "      <td>370680</td>\n",
       "      <td>0</td>\n",
       "    </tr>\n",
       "    <tr>\n",
       "      <th>Deaths</th>\n",
       "      <td>3968</td>\n",
       "      <td>0</td>\n",
       "    </tr>\n",
       "    <tr>\n",
       "      <th>Recovered</th>\n",
       "      <td>142208</td>\n",
       "      <td>0</td>\n",
       "    </tr>\n",
       "    <tr>\n",
       "      <th>Active</th>\n",
       "      <td>224504</td>\n",
       "      <td>0</td>\n",
       "    </tr>\n",
       "    <tr>\n",
       "      <th>Combined_Key</th>\n",
       "      <td>Russia</td>\n",
       "      <td>Arthur, Nebraska, US</td>\n",
       "    </tr>\n",
       "  </tbody>\n",
       "</table>\n",
       "</div>"
      ],
      "text/plain": [
       "                   3368                  83  \n",
       "County              NaN                Arthur\n",
       "Province_State      NaN              Nebraska\n",
       "Country_Region   Russia                    US\n",
       "Lat              61.524                41.569\n",
       "Long            105.319              -101.696\n",
       "Confirmed        370680                     0\n",
       "Deaths             3968                     0\n",
       "Recovered        142208                     0\n",
       "Active           224504                     0\n",
       "Combined_Key     Russia  Arthur, Nebraska, US"
      ]
     },
     "execution_count": 15,
     "metadata": {},
     "output_type": "execute_result"
    }
   ],
   "source": [
    "def find_min_max_in(col):\n",
    "    \"\"\"\n",
    "    The function takes in a column and returns the top 5\n",
    "    and bottom 5 in that column.\n",
    "    \n",
    "    args:\n",
    "        col: string - column name\n",
    "    return:\n",
    "        info_df: dataframe - final 5 dataframe\n",
    "    \"\"\"\n",
    "    \n",
    "    worst = covid[col].idxmax()\n",
    "    worst_df = pd.DataFrame(covid.loc[worst])\n",
    "    \n",
    "    best = covid[col].idxmin()\n",
    "    best_df = pd.DataFrame(covid.loc[best])\n",
    "    \n",
    "    info_df = pd.concat([worst_df, best_df], axis=1)\n",
    "    return info_df\n",
    "\n",
    "find_min_max_in('Confirmed')"
   ]
  },
  {
   "cell_type": "code",
   "execution_count": 16,
   "metadata": {},
   "outputs": [
    {
     "data": {
      "text/html": [
       "<div>\n",
       "<style scoped>\n",
       "    .dataframe tbody tr th:only-of-type {\n",
       "        vertical-align: middle;\n",
       "    }\n",
       "\n",
       "    .dataframe tbody tr th {\n",
       "        vertical-align: top;\n",
       "    }\n",
       "\n",
       "    .dataframe thead th {\n",
       "        text-align: right;\n",
       "    }\n",
       "</style>\n",
       "<table border=\"1\" class=\"dataframe\">\n",
       "  <thead>\n",
       "    <tr style=\"text-align: right;\">\n",
       "      <th></th>\n",
       "      <th>3404</th>\n",
       "      <th>0</th>\n",
       "    </tr>\n",
       "  </thead>\n",
       "  <tbody>\n",
       "    <tr>\n",
       "      <th>County</th>\n",
       "      <td>NaN</td>\n",
       "      <td>Abbeville</td>\n",
       "    </tr>\n",
       "    <tr>\n",
       "      <th>Province_State</th>\n",
       "      <td>NaN</td>\n",
       "      <td>South Carolina</td>\n",
       "    </tr>\n",
       "    <tr>\n",
       "      <th>Country_Region</th>\n",
       "      <td>United Kingdom</td>\n",
       "      <td>US</td>\n",
       "    </tr>\n",
       "    <tr>\n",
       "      <th>Lat</th>\n",
       "      <td>55.3781</td>\n",
       "      <td>34.2233</td>\n",
       "    </tr>\n",
       "    <tr>\n",
       "      <th>Long</th>\n",
       "      <td>-3.436</td>\n",
       "      <td>-82.4617</td>\n",
       "    </tr>\n",
       "    <tr>\n",
       "      <th>Confirmed</th>\n",
       "      <td>267240</td>\n",
       "      <td>35</td>\n",
       "    </tr>\n",
       "    <tr>\n",
       "      <th>Deaths</th>\n",
       "      <td>37460</td>\n",
       "      <td>0</td>\n",
       "    </tr>\n",
       "    <tr>\n",
       "      <th>Recovered</th>\n",
       "      <td>0</td>\n",
       "      <td>0</td>\n",
       "    </tr>\n",
       "    <tr>\n",
       "      <th>Active</th>\n",
       "      <td>229780</td>\n",
       "      <td>35</td>\n",
       "    </tr>\n",
       "    <tr>\n",
       "      <th>Combined_Key</th>\n",
       "      <td>United Kingdom</td>\n",
       "      <td>Abbeville, South Carolina, US</td>\n",
       "    </tr>\n",
       "  </tbody>\n",
       "</table>\n",
       "</div>"
      ],
      "text/plain": [
       "                          3404                           0   \n",
       "County                     NaN                      Abbeville\n",
       "Province_State             NaN                 South Carolina\n",
       "Country_Region  United Kingdom                             US\n",
       "Lat                    55.3781                        34.2233\n",
       "Long                    -3.436                       -82.4617\n",
       "Confirmed               267240                             35\n",
       "Deaths                   37460                              0\n",
       "Recovered                    0                              0\n",
       "Active                  229780                             35\n",
       "Combined_Key    United Kingdom  Abbeville, South Carolina, US"
      ]
     },
     "execution_count": 16,
     "metadata": {},
     "output_type": "execute_result"
    }
   ],
   "source": [
    "  def find_min_max_in(col): \n",
    "    worst = covid[col].idxmax()\n",
    "    worst_df = pd.DataFrame(covid.loc[worst])\n",
    "    \n",
    "    best = covid[col].idxmin()\n",
    "    best_df = pd.DataFrame(covid.loc[best])\n",
    "    \n",
    "    info_df = pd.concat([worst_df, best_df], axis=1)\n",
    "    return info_df\n",
    "\n",
    "find_min_max_in('Deaths')\n"
   ]
  },
  {
   "cell_type": "code",
   "execution_count": 17,
   "metadata": {},
   "outputs": [
    {
     "data": {
      "text/html": [
       "<div>\n",
       "<style scoped>\n",
       "    .dataframe tbody tr th:only-of-type {\n",
       "        vertical-align: middle;\n",
       "    }\n",
       "\n",
       "    .dataframe tbody tr th {\n",
       "        vertical-align: top;\n",
       "    }\n",
       "\n",
       "    .dataframe thead th {\n",
       "        text-align: right;\n",
       "    }\n",
       "</style>\n",
       "<table border=\"1\" class=\"dataframe\">\n",
       "  <thead>\n",
       "    <tr style=\"text-align: right;\">\n",
       "      <th></th>\n",
       "      <th>Confirmed</th>\n",
       "    </tr>\n",
       "    <tr>\n",
       "      <th>Lat</th>\n",
       "      <th></th>\n",
       "    </tr>\n",
       "  </thead>\n",
       "  <tbody>\n",
       "    <tr>\n",
       "      <th>61.524010</th>\n",
       "      <td>370680.0</td>\n",
       "    </tr>\n",
       "    <tr>\n",
       "      <th>55.378100</th>\n",
       "      <td>267240.0</td>\n",
       "    </tr>\n",
       "    <tr>\n",
       "      <th>40.767273</th>\n",
       "      <td>199968.0</td>\n",
       "    </tr>\n",
       "    <tr>\n",
       "      <th>46.227600</th>\n",
       "      <td>180044.0</td>\n",
       "    </tr>\n",
       "    <tr>\n",
       "      <th>38.963700</th>\n",
       "      <td>159797.0</td>\n",
       "    </tr>\n",
       "    <tr>\n",
       "      <th>...</th>\n",
       "      <td>...</td>\n",
       "    </tr>\n",
       "    <tr>\n",
       "      <th>41.915862</th>\n",
       "      <td>0.0</td>\n",
       "    </tr>\n",
       "    <tr>\n",
       "      <th>41.566503</th>\n",
       "      <td>0.0</td>\n",
       "    </tr>\n",
       "    <tr>\n",
       "      <th>46.233153</th>\n",
       "      <td>0.0</td>\n",
       "    </tr>\n",
       "    <tr>\n",
       "      <th>44.369562</th>\n",
       "      <td>0.0</td>\n",
       "    </tr>\n",
       "    <tr>\n",
       "      <th>41.567977</th>\n",
       "      <td>0.0</td>\n",
       "    </tr>\n",
       "  </tbody>\n",
       "</table>\n",
       "<p>3345 rows × 1 columns</p>\n",
       "</div>"
      ],
      "text/plain": [
       "           Confirmed\n",
       "Lat                 \n",
       "61.524010   370680.0\n",
       "55.378100   267240.0\n",
       "40.767273   199968.0\n",
       "46.227600   180044.0\n",
       "38.963700   159797.0\n",
       "...              ...\n",
       "41.915862        0.0\n",
       "41.566503        0.0\n",
       "46.233153        0.0\n",
       "44.369562        0.0\n",
       "41.567977        0.0\n",
       "\n",
       "[3345 rows x 1 columns]"
      ]
     },
     "execution_count": 17,
     "metadata": {},
     "output_type": "execute_result"
    }
   ],
   "source": [
    "average_in_lat = covid.groupby([\"Lat\"])[[\"Confirmed\"]].mean()\n",
    "average_in_lat.sort_values(by='Confirmed', ascending = False)"
   ]
  },
  {
   "cell_type": "code",
   "execution_count": 18,
   "metadata": {
    "scrolled": true
   },
   "outputs": [
    {
     "data": {
      "text/html": [
       "<div>\n",
       "<style scoped>\n",
       "    .dataframe tbody tr th:only-of-type {\n",
       "        vertical-align: middle;\n",
       "    }\n",
       "\n",
       "    .dataframe tbody tr th {\n",
       "        vertical-align: top;\n",
       "    }\n",
       "\n",
       "    .dataframe thead th {\n",
       "        text-align: right;\n",
       "    }\n",
       "</style>\n",
       "<table border=\"1\" class=\"dataframe\">\n",
       "  <thead>\n",
       "    <tr style=\"text-align: right;\">\n",
       "      <th></th>\n",
       "      <th>County</th>\n",
       "      <th>Province_State</th>\n",
       "      <th>Country_Region</th>\n",
       "      <th>Lat</th>\n",
       "      <th>Long</th>\n",
       "      <th>Confirmed</th>\n",
       "      <th>Deaths</th>\n",
       "      <th>Recovered</th>\n",
       "      <th>Active</th>\n",
       "      <th>Combined_Key</th>\n",
       "      <th>fatalities</th>\n",
       "    </tr>\n",
       "  </thead>\n",
       "  <tbody>\n",
       "    <tr>\n",
       "      <th>2687</th>\n",
       "      <td>Unassigned</td>\n",
       "      <td>Arizona</td>\n",
       "      <td>US</td>\n",
       "      <td>NaN</td>\n",
       "      <td>NaN</td>\n",
       "      <td>0</td>\n",
       "      <td>2</td>\n",
       "      <td>0</td>\n",
       "      <td>-2</td>\n",
       "      <td>Unassigned, Arizona, US</td>\n",
       "      <td>inf</td>\n",
       "    </tr>\n",
       "    <tr>\n",
       "      <th>2733</th>\n",
       "      <td>Unassigned</td>\n",
       "      <td>Wyoming</td>\n",
       "      <td>US</td>\n",
       "      <td>NaN</td>\n",
       "      <td>NaN</td>\n",
       "      <td>0</td>\n",
       "      <td>13</td>\n",
       "      <td>0</td>\n",
       "      <td>-13</td>\n",
       "      <td>Unassigned, Wyoming, US</td>\n",
       "      <td>inf</td>\n",
       "    </tr>\n",
       "    <tr>\n",
       "      <th>2717</th>\n",
       "      <td>Unassigned</td>\n",
       "      <td>North Dakota</td>\n",
       "      <td>US</td>\n",
       "      <td>NaN</td>\n",
       "      <td>NaN</td>\n",
       "      <td>0</td>\n",
       "      <td>8</td>\n",
       "      <td>0</td>\n",
       "      <td>-8</td>\n",
       "      <td>Unassigned, North Dakota, US</td>\n",
       "      <td>inf</td>\n",
       "    </tr>\n",
       "    <tr>\n",
       "      <th>2711</th>\n",
       "      <td>Unassigned</td>\n",
       "      <td>Nevada</td>\n",
       "      <td>US</td>\n",
       "      <td>NaN</td>\n",
       "      <td>NaN</td>\n",
       "      <td>0</td>\n",
       "      <td>6</td>\n",
       "      <td>0</td>\n",
       "      <td>-6</td>\n",
       "      <td>Unassigned, Nevada, US</td>\n",
       "      <td>inf</td>\n",
       "    </tr>\n",
       "    <tr>\n",
       "      <th>2703</th>\n",
       "      <td>Unassigned</td>\n",
       "      <td>Maryland</td>\n",
       "      <td>US</td>\n",
       "      <td>NaN</td>\n",
       "      <td>NaN</td>\n",
       "      <td>0</td>\n",
       "      <td>67</td>\n",
       "      <td>0</td>\n",
       "      <td>-67</td>\n",
       "      <td>Unassigned, Maryland, US</td>\n",
       "      <td>inf</td>\n",
       "    </tr>\n",
       "    <tr>\n",
       "      <th>...</th>\n",
       "      <td>...</td>\n",
       "      <td>...</td>\n",
       "      <td>...</td>\n",
       "      <td>...</td>\n",
       "      <td>...</td>\n",
       "      <td>...</td>\n",
       "      <td>...</td>\n",
       "      <td>...</td>\n",
       "      <td>...</td>\n",
       "      <td>...</td>\n",
       "      <td>...</td>\n",
       "    </tr>\n",
       "    <tr>\n",
       "      <th>2839</th>\n",
       "      <td>Washington</td>\n",
       "      <td>Kansas</td>\n",
       "      <td>US</td>\n",
       "      <td>39.784208</td>\n",
       "      <td>-97.087532</td>\n",
       "      <td>0</td>\n",
       "      <td>0</td>\n",
       "      <td>0</td>\n",
       "      <td>0</td>\n",
       "      <td>Washington, Kansas, US</td>\n",
       "      <td>NaN</td>\n",
       "    </tr>\n",
       "    <tr>\n",
       "      <th>3176</th>\n",
       "      <td>NaN</td>\n",
       "      <td>Recovered</td>\n",
       "      <td>US</td>\n",
       "      <td>NaN</td>\n",
       "      <td>NaN</td>\n",
       "      <td>0</td>\n",
       "      <td>0</td>\n",
       "      <td>391508</td>\n",
       "      <td>-364117</td>\n",
       "      <td>Recovered, US</td>\n",
       "      <td>NaN</td>\n",
       "    </tr>\n",
       "    <tr>\n",
       "      <th>3219</th>\n",
       "      <td>NaN</td>\n",
       "      <td>Unknown</td>\n",
       "      <td>Brazil</td>\n",
       "      <td>NaN</td>\n",
       "      <td>NaN</td>\n",
       "      <td>0</td>\n",
       "      <td>0</td>\n",
       "      <td>166647</td>\n",
       "      <td>-166647</td>\n",
       "      <td>Unknown, Brazil</td>\n",
       "      <td>NaN</td>\n",
       "    </tr>\n",
       "    <tr>\n",
       "      <th>3220</th>\n",
       "      <td>NaN</td>\n",
       "      <td>Unknown</td>\n",
       "      <td>Chile</td>\n",
       "      <td>NaN</td>\n",
       "      <td>NaN</td>\n",
       "      <td>0</td>\n",
       "      <td>0</td>\n",
       "      <td>33540</td>\n",
       "      <td>-33540</td>\n",
       "      <td>Unknown, Chile</td>\n",
       "      <td>NaN</td>\n",
       "    </tr>\n",
       "    <tr>\n",
       "      <th>3222</th>\n",
       "      <td>NaN</td>\n",
       "      <td>Unknown</td>\n",
       "      <td>Spain</td>\n",
       "      <td>NaN</td>\n",
       "      <td>NaN</td>\n",
       "      <td>0</td>\n",
       "      <td>0</td>\n",
       "      <td>0</td>\n",
       "      <td>0</td>\n",
       "      <td>Unknown, Spain</td>\n",
       "      <td>NaN</td>\n",
       "    </tr>\n",
       "  </tbody>\n",
       "</table>\n",
       "<p>3414 rows × 11 columns</p>\n",
       "</div>"
      ],
      "text/plain": [
       "          County Province_State Country_Region        Lat       Long  \\\n",
       "2687  Unassigned        Arizona             US        NaN        NaN   \n",
       "2733  Unassigned        Wyoming             US        NaN        NaN   \n",
       "2717  Unassigned   North Dakota             US        NaN        NaN   \n",
       "2711  Unassigned         Nevada             US        NaN        NaN   \n",
       "2703  Unassigned       Maryland             US        NaN        NaN   \n",
       "...          ...            ...            ...        ...        ...   \n",
       "2839  Washington         Kansas             US  39.784208 -97.087532   \n",
       "3176         NaN      Recovered             US        NaN        NaN   \n",
       "3219         NaN        Unknown         Brazil        NaN        NaN   \n",
       "3220         NaN        Unknown          Chile        NaN        NaN   \n",
       "3222         NaN        Unknown          Spain        NaN        NaN   \n",
       "\n",
       "      Confirmed  Deaths  Recovered  Active                  Combined_Key  \\\n",
       "2687          0       2          0      -2       Unassigned, Arizona, US   \n",
       "2733          0      13          0     -13       Unassigned, Wyoming, US   \n",
       "2717          0       8          0      -8  Unassigned, North Dakota, US   \n",
       "2711          0       6          0      -6        Unassigned, Nevada, US   \n",
       "2703          0      67          0     -67      Unassigned, Maryland, US   \n",
       "...         ...     ...        ...     ...                           ...   \n",
       "2839          0       0          0       0        Washington, Kansas, US   \n",
       "3176          0       0     391508 -364117                 Recovered, US   \n",
       "3219          0       0     166647 -166647               Unknown, Brazil   \n",
       "3220          0       0      33540  -33540                Unknown, Chile   \n",
       "3222          0       0          0       0                Unknown, Spain   \n",
       "\n",
       "      fatalities  \n",
       "2687         inf  \n",
       "2733         inf  \n",
       "2717         inf  \n",
       "2711         inf  \n",
       "2703         inf  \n",
       "...          ...  \n",
       "2839         NaN  \n",
       "3176         NaN  \n",
       "3219         NaN  \n",
       "3220         NaN  \n",
       "3222         NaN  \n",
       "\n",
       "[3414 rows x 11 columns]"
      ]
     },
     "execution_count": 18,
     "metadata": {},
     "output_type": "execute_result"
    }
   ],
   "source": [
    "covid['fatalities'] = covid['Deaths'] / covid['Confirmed']\n",
    "cols = covid.columns\n",
    "covid = covid[cols]\n",
    "covid.sort_values(by = ['fatalities'], ascending=False)"
   ]
  },
  {
   "cell_type": "code",
   "execution_count": 19,
   "metadata": {},
   "outputs": [],
   "source": [
    "#need to figure out how to remove rows with 'inf' fatalities"
   ]
  },
  {
   "cell_type": "code",
   "execution_count": 20,
   "metadata": {},
   "outputs": [
    {
     "data": {
      "text/html": [
       "<div>\n",
       "<style scoped>\n",
       "    .dataframe tbody tr th:only-of-type {\n",
       "        vertical-align: middle;\n",
       "    }\n",
       "\n",
       "    .dataframe tbody tr th {\n",
       "        vertical-align: top;\n",
       "    }\n",
       "\n",
       "    .dataframe thead th {\n",
       "        text-align: right;\n",
       "    }\n",
       "</style>\n",
       "<table border=\"1\" class=\"dataframe\">\n",
       "  <thead>\n",
       "    <tr style=\"text-align: right;\">\n",
       "      <th></th>\n",
       "      <th>2687</th>\n",
       "      <th>0</th>\n",
       "    </tr>\n",
       "  </thead>\n",
       "  <tbody>\n",
       "    <tr>\n",
       "      <th>County</th>\n",
       "      <td>Unassigned</td>\n",
       "      <td>Abbeville</td>\n",
       "    </tr>\n",
       "    <tr>\n",
       "      <th>Province_State</th>\n",
       "      <td>Arizona</td>\n",
       "      <td>South Carolina</td>\n",
       "    </tr>\n",
       "    <tr>\n",
       "      <th>Country_Region</th>\n",
       "      <td>US</td>\n",
       "      <td>US</td>\n",
       "    </tr>\n",
       "    <tr>\n",
       "      <th>Lat</th>\n",
       "      <td>NaN</td>\n",
       "      <td>34.2233</td>\n",
       "    </tr>\n",
       "    <tr>\n",
       "      <th>Long</th>\n",
       "      <td>NaN</td>\n",
       "      <td>-82.4617</td>\n",
       "    </tr>\n",
       "    <tr>\n",
       "      <th>Confirmed</th>\n",
       "      <td>0</td>\n",
       "      <td>35</td>\n",
       "    </tr>\n",
       "    <tr>\n",
       "      <th>Deaths</th>\n",
       "      <td>2</td>\n",
       "      <td>0</td>\n",
       "    </tr>\n",
       "    <tr>\n",
       "      <th>Recovered</th>\n",
       "      <td>0</td>\n",
       "      <td>0</td>\n",
       "    </tr>\n",
       "    <tr>\n",
       "      <th>Active</th>\n",
       "      <td>-2</td>\n",
       "      <td>35</td>\n",
       "    </tr>\n",
       "    <tr>\n",
       "      <th>Combined_Key</th>\n",
       "      <td>Unassigned, Arizona, US</td>\n",
       "      <td>Abbeville, South Carolina, US</td>\n",
       "    </tr>\n",
       "    <tr>\n",
       "      <th>fatalities</th>\n",
       "      <td>inf</td>\n",
       "      <td>0</td>\n",
       "    </tr>\n",
       "  </tbody>\n",
       "</table>\n",
       "</div>"
      ],
      "text/plain": [
       "                                   2687                           0   \n",
       "County                       Unassigned                      Abbeville\n",
       "Province_State                  Arizona                 South Carolina\n",
       "Country_Region                       US                             US\n",
       "Lat                                 NaN                        34.2233\n",
       "Long                                NaN                       -82.4617\n",
       "Confirmed                             0                             35\n",
       "Deaths                                2                              0\n",
       "Recovered                             0                              0\n",
       "Active                               -2                             35\n",
       "Combined_Key    Unassigned, Arizona, US  Abbeville, South Carolina, US\n",
       "fatalities                          inf                              0"
      ]
     },
     "execution_count": 20,
     "metadata": {},
     "output_type": "execute_result"
    }
   ],
   "source": [
    "find_min_max_in('fatalities')"
   ]
  },
  {
   "cell_type": "code",
   "execution_count": 21,
   "metadata": {},
   "outputs": [
    {
     "data": {
      "text/html": [
       "<div>\n",
       "<style scoped>\n",
       "    .dataframe tbody tr th:only-of-type {\n",
       "        vertical-align: middle;\n",
       "    }\n",
       "\n",
       "    .dataframe tbody tr th {\n",
       "        vertical-align: top;\n",
       "    }\n",
       "\n",
       "    .dataframe thead th {\n",
       "        text-align: right;\n",
       "    }\n",
       "</style>\n",
       "<table border=\"1\" class=\"dataframe\">\n",
       "  <thead>\n",
       "    <tr style=\"text-align: right;\">\n",
       "      <th></th>\n",
       "      <th>fatalities</th>\n",
       "    </tr>\n",
       "    <tr>\n",
       "      <th>Country_Region</th>\n",
       "      <th></th>\n",
       "    </tr>\n",
       "  </thead>\n",
       "  <tbody>\n",
       "    <tr>\n",
       "      <th>US</th>\n",
       "      <td>inf</td>\n",
       "    </tr>\n",
       "    <tr>\n",
       "      <th>MS Zaandam</th>\n",
       "      <td>0.222222</td>\n",
       "    </tr>\n",
       "    <tr>\n",
       "      <th>Yemen</th>\n",
       "      <td>0.207031</td>\n",
       "    </tr>\n",
       "    <tr>\n",
       "      <th>Belgium</th>\n",
       "      <td>0.162592</td>\n",
       "    </tr>\n",
       "    <tr>\n",
       "      <th>Hungary</th>\n",
       "      <td>0.133140</td>\n",
       "    </tr>\n",
       "  </tbody>\n",
       "</table>\n",
       "</div>"
      ],
      "text/plain": [
       "                fatalities\n",
       "Country_Region            \n",
       "US                     inf\n",
       "MS Zaandam        0.222222\n",
       "Yemen             0.207031\n",
       "Belgium           0.162592\n",
       "Hungary           0.133140"
      ]
     },
     "execution_count": 21,
     "metadata": {},
     "output_type": "execute_result"
    }
   ],
   "source": [
    "average_fatalities = covid.groupby([\"Country_Region\"])[[\"fatalities\"]].mean()\n",
    "average_fatalities.sort_values(by = ['fatalities'], ascending=False).head()"
   ]
  },
  {
   "cell_type": "code",
   "execution_count": 22,
   "metadata": {},
   "outputs": [
    {
     "data": {
      "text/html": [
       "<div>\n",
       "<style scoped>\n",
       "    .dataframe tbody tr th:only-of-type {\n",
       "        vertical-align: middle;\n",
       "    }\n",
       "\n",
       "    .dataframe tbody tr th {\n",
       "        vertical-align: top;\n",
       "    }\n",
       "\n",
       "    .dataframe thead th {\n",
       "        text-align: right;\n",
       "    }\n",
       "</style>\n",
       "<table border=\"1\" class=\"dataframe\">\n",
       "  <thead>\n",
       "    <tr style=\"text-align: right;\">\n",
       "      <th></th>\n",
       "      <th>Lat</th>\n",
       "      <th>Long</th>\n",
       "      <th>Confirmed</th>\n",
       "      <th>Deaths</th>\n",
       "      <th>Recovered</th>\n",
       "      <th>Active</th>\n",
       "      <th>fatalities</th>\n",
       "    </tr>\n",
       "  </thead>\n",
       "  <tbody>\n",
       "    <tr>\n",
       "      <th>Lat</th>\n",
       "      <td>1.000000</td>\n",
       "      <td>-0.357331</td>\n",
       "      <td>-0.036375</td>\n",
       "      <td>0.009210</td>\n",
       "      <td>0.003772</td>\n",
       "      <td>-0.058857</td>\n",
       "      <td>0.011808</td>\n",
       "    </tr>\n",
       "    <tr>\n",
       "      <th>Long</th>\n",
       "      <td>-0.357331</td>\n",
       "      <td>1.000000</td>\n",
       "      <td>0.235082</td>\n",
       "      <td>0.145377</td>\n",
       "      <td>0.278142</td>\n",
       "      <td>0.160131</td>\n",
       "      <td>0.016188</td>\n",
       "    </tr>\n",
       "    <tr>\n",
       "      <th>Confirmed</th>\n",
       "      <td>-0.036375</td>\n",
       "      <td>0.235082</td>\n",
       "      <td>1.000000</td>\n",
       "      <td>0.754176</td>\n",
       "      <td>0.429323</td>\n",
       "      <td>0.693105</td>\n",
       "      <td>0.032280</td>\n",
       "    </tr>\n",
       "    <tr>\n",
       "      <th>Deaths</th>\n",
       "      <td>0.009210</td>\n",
       "      <td>0.145377</td>\n",
       "      <td>0.754176</td>\n",
       "      <td>1.000000</td>\n",
       "      <td>0.223009</td>\n",
       "      <td>0.565718</td>\n",
       "      <td>0.059655</td>\n",
       "    </tr>\n",
       "    <tr>\n",
       "      <th>Recovered</th>\n",
       "      <td>0.003772</td>\n",
       "      <td>0.278142</td>\n",
       "      <td>0.429323</td>\n",
       "      <td>0.223009</td>\n",
       "      <td>1.000000</td>\n",
       "      <td>-0.351046</td>\n",
       "      <td>0.019835</td>\n",
       "    </tr>\n",
       "    <tr>\n",
       "      <th>Active</th>\n",
       "      <td>-0.058857</td>\n",
       "      <td>0.160131</td>\n",
       "      <td>0.693105</td>\n",
       "      <td>0.565718</td>\n",
       "      <td>-0.351046</td>\n",
       "      <td>1.000000</td>\n",
       "      <td>0.028443</td>\n",
       "    </tr>\n",
       "    <tr>\n",
       "      <th>fatalities</th>\n",
       "      <td>0.011808</td>\n",
       "      <td>0.016188</td>\n",
       "      <td>0.032280</td>\n",
       "      <td>0.059655</td>\n",
       "      <td>0.019835</td>\n",
       "      <td>0.028443</td>\n",
       "      <td>1.000000</td>\n",
       "    </tr>\n",
       "  </tbody>\n",
       "</table>\n",
       "</div>"
      ],
      "text/plain": [
       "                 Lat      Long  Confirmed    Deaths  Recovered    Active  \\\n",
       "Lat         1.000000 -0.357331  -0.036375  0.009210   0.003772 -0.058857   \n",
       "Long       -0.357331  1.000000   0.235082  0.145377   0.278142  0.160131   \n",
       "Confirmed  -0.036375  0.235082   1.000000  0.754176   0.429323  0.693105   \n",
       "Deaths      0.009210  0.145377   0.754176  1.000000   0.223009  0.565718   \n",
       "Recovered   0.003772  0.278142   0.429323  0.223009   1.000000 -0.351046   \n",
       "Active     -0.058857  0.160131   0.693105  0.565718  -0.351046  1.000000   \n",
       "fatalities  0.011808  0.016188   0.032280  0.059655   0.019835  0.028443   \n",
       "\n",
       "            fatalities  \n",
       "Lat           0.011808  \n",
       "Long          0.016188  \n",
       "Confirmed     0.032280  \n",
       "Deaths        0.059655  \n",
       "Recovered     0.019835  \n",
       "Active        0.028443  \n",
       "fatalities    1.000000  "
      ]
     },
     "execution_count": 22,
     "metadata": {},
     "output_type": "execute_result"
    }
   ],
   "source": [
    "covid.corr()"
   ]
  },
  {
   "cell_type": "code",
   "execution_count": 23,
   "metadata": {},
   "outputs": [
    {
     "data": {
      "text/plain": [
       "array(['US', 'Italy', 'Brazil', 'Mexico', 'Canada', 'Spain',\n",
       "       'United Kingdom', 'China', 'Chile', 'Netherlands', 'Australia',\n",
       "       'Germany', 'Denmark', 'France', 'Afghanistan', 'Albania',\n",
       "       'Algeria', 'Andorra', 'Angola', 'Antigua and Barbuda', 'Argentina',\n",
       "       'Armenia', 'Austria', 'Azerbaijan', 'Bahamas', 'Bahrain',\n",
       "       'Bangladesh', 'Barbados', 'Belarus', 'Belgium', 'Belize', 'Benin',\n",
       "       'Bhutan', 'Bolivia', 'Bosnia and Herzegovina', 'Botswana',\n",
       "       'Brunei', 'Bulgaria', 'Burkina Faso', 'Burma', 'Burundi',\n",
       "       'Cabo Verde', 'Cambodia', 'Cameroon', 'Central African Republic',\n",
       "       'Chad', 'Colombia', 'Comoros', 'Congo (Brazzaville)',\n",
       "       'Congo (Kinshasa)', 'Costa Rica', \"Cote d'Ivoire\", 'Croatia',\n",
       "       'Cuba', 'Cyprus', 'Czechia', 'Diamond Princess', 'Djibouti',\n",
       "       'Dominica', 'Dominican Republic', 'Ecuador', 'Egypt',\n",
       "       'El Salvador', 'Equatorial Guinea', 'Eritrea', 'Estonia',\n",
       "       'Eswatini', 'Ethiopia', 'Fiji', 'Finland', 'Gabon', 'Gambia',\n",
       "       'Georgia', 'Ghana', 'Greece', 'Grenada', 'Guatemala', 'Guinea',\n",
       "       'Guinea-Bissau', 'Guyana', 'Haiti', 'Holy See', 'Honduras',\n",
       "       'Hungary', 'Iceland', 'India', 'Indonesia', 'Iran', 'Iraq',\n",
       "       'Ireland', 'Israel', 'Jamaica', 'Japan', 'Jordan', 'Kazakhstan',\n",
       "       'Kenya', 'Korea, South', 'Kosovo', 'Kuwait', 'Kyrgyzstan', 'Laos',\n",
       "       'Latvia', 'Lebanon', 'Lesotho', 'Liberia', 'Libya',\n",
       "       'Liechtenstein', 'Lithuania', 'Luxembourg', 'MS Zaandam',\n",
       "       'Madagascar', 'Malawi', 'Malaysia', 'Maldives', 'Mali', 'Malta',\n",
       "       'Mauritania', 'Mauritius', 'Moldova', 'Monaco', 'Mongolia',\n",
       "       'Montenegro', 'Morocco', 'Mozambique', 'Namibia', 'Nepal',\n",
       "       'New Zealand', 'Nicaragua', 'Niger', 'Nigeria', 'North Macedonia',\n",
       "       'Norway', 'Oman', 'Pakistan', 'Panama', 'Papua New Guinea',\n",
       "       'Paraguay', 'Peru', 'Philippines', 'Poland', 'Portugal', 'Qatar',\n",
       "       'Romania', 'Russia', 'Rwanda', 'Saint Kitts and Nevis',\n",
       "       'Saint Lucia', 'Saint Vincent and the Grenadines', 'San Marino',\n",
       "       'Sao Tome and Principe', 'Saudi Arabia', 'Senegal', 'Serbia',\n",
       "       'Seychelles', 'Sierra Leone', 'Singapore', 'Slovakia', 'Slovenia',\n",
       "       'Somalia', 'South Africa', 'South Sudan', 'Sri Lanka', 'Sudan',\n",
       "       'Suriname', 'Sweden', 'Switzerland', 'Syria', 'Taiwan*',\n",
       "       'Tajikistan', 'Tanzania', 'Thailand', 'Timor-Leste', 'Togo',\n",
       "       'Trinidad and Tobago', 'Tunisia', 'Turkey', 'Uganda', 'Ukraine',\n",
       "       'United Arab Emirates', 'Uruguay', 'Uzbekistan', 'Venezuela',\n",
       "       'Vietnam', 'West Bank and Gaza', 'Western Sahara', 'Yemen',\n",
       "       'Zambia', 'Zimbabwe'], dtype=object)"
      ]
     },
     "execution_count": 23,
     "metadata": {},
     "output_type": "execute_result"
    }
   ],
   "source": [
    "#List of all of the countries in the dataset \n",
    "\n",
    "covid.Country_Region.unique()"
   ]
  },
  {
   "cell_type": "code",
   "execution_count": 24,
   "metadata": {},
   "outputs": [],
   "source": [
    "#Add in a way to determine which territories go with which countries (and use on map?)"
   ]
  },
  {
   "cell_type": "code",
   "execution_count": 25,
   "metadata": {},
   "outputs": [
    {
     "data": {
      "text/plain": [
       "893.75"
      ]
     },
     "execution_count": 25,
     "metadata": {},
     "output_type": "execute_result"
    }
   ],
   "source": [
    "covid[covid['Country_Region']=='Australia']['Confirmed'].mean()\n",
    "#it is likely that Australia is split into territories"
   ]
  },
  {
   "cell_type": "code",
   "execution_count": 26,
   "metadata": {},
   "outputs": [
    {
     "data": {
      "text/plain": [
       "24419.909090909092"
      ]
     },
     "execution_count": 26,
     "metadata": {},
     "output_type": "execute_result"
    }
   ],
   "source": [
    "covid[covid['Country_Region']=='United Kingdom']['Confirmed'].mean()\n",
    "#It is likely that the UK is not split into territories"
   ]
  },
  {
   "cell_type": "code",
   "execution_count": 27,
   "metadata": {},
   "outputs": [
    {
     "data": {
      "text/plain": [
       "Lat             36.104244\n",
       "Long           -80.531102\n",
       "Confirmed     1667.190978\n",
       "Deaths         104.167838\n",
       "Recovered      688.367897\n",
       "Active         882.678383\n",
       "fatalities            inf\n",
       "dtype: float64"
      ]
     },
     "execution_count": 27,
     "metadata": {},
     "output_type": "execute_result"
    }
   ],
   "source": [
    "covid.mean()"
   ]
  },
  {
   "cell_type": "code",
   "execution_count": 28,
   "metadata": {},
   "outputs": [
    {
     "data": {
      "text/plain": [
       "Lat              11.763628\n",
       "Long             40.244297\n",
       "Confirmed     11735.082842\n",
       "Deaths         1024.359904\n",
       "Recovered      8803.470047\n",
       "Active        10361.865410\n",
       "fatalities             NaN\n",
       "dtype: float64"
      ]
     },
     "execution_count": 28,
     "metadata": {},
     "output_type": "execute_result"
    }
   ],
   "source": [
    "covid.std()"
   ]
  },
  {
   "cell_type": "markdown",
   "metadata": {},
   "source": [
    "**US Data:**"
   ]
  },
  {
   "cell_type": "markdown",
   "metadata": {},
   "source": [
    "Confirmed Cases:"
   ]
  },
  {
   "cell_type": "code",
   "execution_count": 29,
   "metadata": {},
   "outputs": [
    {
     "data": {
      "text/plain": [
       "562.641059602649"
      ]
     },
     "execution_count": 29,
     "metadata": {},
     "output_type": "execute_result"
    }
   ],
   "source": [
    "covid[covid['Country_Region']=='US']['Confirmed'].mean()\n",
    "\n",
    "#average number of cases per US location"
   ]
  },
  {
   "cell_type": "code",
   "execution_count": 30,
   "metadata": {},
   "outputs": [
    {
     "data": {
      "text/plain": [
       "4436.221444484899"
      ]
     },
     "execution_count": 30,
     "metadata": {},
     "output_type": "execute_result"
    }
   ],
   "source": [
    "covid[covid['Country_Region']=='US']['Confirmed'].std()"
   ]
  },
  {
   "cell_type": "code",
   "execution_count": 31,
   "metadata": {},
   "outputs": [
    {
     "data": {
      "text/plain": [
       "40.0"
      ]
     },
     "execution_count": 31,
     "metadata": {},
     "output_type": "execute_result"
    }
   ],
   "source": [
    "covid[covid['Country_Region']=='US']['Confirmed'].median()"
   ]
  },
  {
   "cell_type": "code",
   "execution_count": 32,
   "metadata": {},
   "outputs": [
    {
     "data": {
      "text/plain": [
       "0    1\n",
       "dtype: int64"
      ]
     },
     "execution_count": 32,
     "metadata": {},
     "output_type": "execute_result"
    }
   ],
   "source": [
    "covid[covid['Country_Region']=='US']['Confirmed'].mode()\n",
    "#This shows that due to the fact that so many US locations have no confirmed cases, the data is likely inaccurate (not sufficient testing)"
   ]
  },
  {
   "cell_type": "code",
   "execution_count": 33,
   "metadata": {},
   "outputs": [
    {
     "data": {
      "text/plain": [
       "0"
      ]
     },
     "execution_count": 33,
     "metadata": {},
     "output_type": "execute_result"
    }
   ],
   "source": [
    "covid[covid['Country_Region']=='US']['Confirmed'].min()"
   ]
  },
  {
   "cell_type": "code",
   "execution_count": 34,
   "metadata": {},
   "outputs": [
    {
     "data": {
      "text/plain": [
       "199968"
      ]
     },
     "execution_count": 34,
     "metadata": {},
     "output_type": "execute_result"
    }
   ],
   "source": [
    "covid[covid['Country_Region']=='US']['Confirmed'].max()"
   ]
  },
  {
   "cell_type": "code",
   "execution_count": 35,
   "metadata": {},
   "outputs": [
    {
     "data": {
      "text/plain": [
       "10.0"
      ]
     },
     "execution_count": 35,
     "metadata": {},
     "output_type": "execute_result"
    }
   ],
   "source": [
    "quantile1 = covid[covid['Country_Region']=='US']['Confirmed'].quantile(0.25)\n",
    "quantile1"
   ]
  },
  {
   "cell_type": "code",
   "execution_count": 36,
   "metadata": {},
   "outputs": [
    {
     "data": {
      "text/plain": [
       "188.25"
      ]
     },
     "execution_count": 36,
     "metadata": {},
     "output_type": "execute_result"
    }
   ],
   "source": [
    "quantile3 = covid[covid['Country_Region']=='US']['Confirmed'].quantile(0.75)\n",
    "quantile3"
   ]
  },
  {
   "cell_type": "code",
   "execution_count": 37,
   "metadata": {},
   "outputs": [
    {
     "data": {
      "text/plain": [
       "178.25"
      ]
     },
     "execution_count": 37,
     "metadata": {},
     "output_type": "execute_result"
    }
   ],
   "source": [
    "IQR = quantile3-quantile1\n",
    "IQR"
   ]
  },
  {
   "cell_type": "markdown",
   "metadata": {},
   "source": [
    "Deaths:"
   ]
  },
  {
   "cell_type": "code",
   "execution_count": 38,
   "metadata": {},
   "outputs": [
    {
     "data": {
      "text/plain": [
       "33.25099337748345"
      ]
     },
     "execution_count": 38,
     "metadata": {},
     "output_type": "execute_result"
    }
   ],
   "source": [
    "covid[covid['Country_Region']=='US']['Deaths'].mean()"
   ]
  },
  {
   "cell_type": "code",
   "execution_count": 39,
   "metadata": {},
   "outputs": [
    {
     "data": {
      "text/plain": [
       "414.20310065784923"
      ]
     },
     "execution_count": 39,
     "metadata": {},
     "output_type": "execute_result"
    }
   ],
   "source": [
    "covid[covid['Country_Region']=='US']['Deaths'].std()"
   ]
  },
  {
   "cell_type": "code",
   "execution_count": 40,
   "metadata": {},
   "outputs": [
    {
     "data": {
      "text/plain": [
       "1.0"
      ]
     },
     "execution_count": 40,
     "metadata": {},
     "output_type": "execute_result"
    }
   ],
   "source": [
    "covid[covid['Country_Region']=='US']['Deaths'].median()"
   ]
  },
  {
   "cell_type": "code",
   "execution_count": 41,
   "metadata": {},
   "outputs": [
    {
     "data": {
      "text/plain": [
       "0    0\n",
       "dtype: int64"
      ]
     },
     "execution_count": 41,
     "metadata": {},
     "output_type": "execute_result"
    }
   ],
   "source": [
    "covid[covid['Country_Region']=='US']['Deaths'].mode()"
   ]
  },
  {
   "cell_type": "code",
   "execution_count": 42,
   "metadata": {},
   "outputs": [
    {
     "data": {
      "text/plain": [
       "199968"
      ]
     },
     "execution_count": 42,
     "metadata": {},
     "output_type": "execute_result"
    }
   ],
   "source": [
    "covid[covid['Country_Region']=='US']['Confirmed'].max()"
   ]
  },
  {
   "cell_type": "code",
   "execution_count": 43,
   "metadata": {},
   "outputs": [
    {
     "data": {
      "text/plain": [
       "31.0"
      ]
     },
     "execution_count": 43,
     "metadata": {},
     "output_type": "execute_result"
    }
   ],
   "source": [
    "covid[covid['Country_Region']=='US']['Deaths'].quantile(0.9)"
   ]
  },
  {
   "cell_type": "markdown",
   "metadata": {},
   "source": [
    "Linear Regression and Machine Learning"
   ]
  },
  {
   "cell_type": "code",
   "execution_count": 44,
   "metadata": {},
   "outputs": [
    {
     "data": {
      "text/html": [
       "<div>\n",
       "<style scoped>\n",
       "    .dataframe tbody tr th:only-of-type {\n",
       "        vertical-align: middle;\n",
       "    }\n",
       "\n",
       "    .dataframe tbody tr th {\n",
       "        vertical-align: top;\n",
       "    }\n",
       "\n",
       "    .dataframe thead th {\n",
       "        text-align: right;\n",
       "    }\n",
       "</style>\n",
       "<table border=\"1\" class=\"dataframe\">\n",
       "  <thead>\n",
       "    <tr style=\"text-align: right;\">\n",
       "      <th></th>\n",
       "      <th>County</th>\n",
       "      <th>Province_State</th>\n",
       "      <th>Country_Region</th>\n",
       "      <th>Lat</th>\n",
       "      <th>Long</th>\n",
       "      <th>Confirmed</th>\n",
       "      <th>Deaths</th>\n",
       "      <th>Recovered</th>\n",
       "      <th>Active</th>\n",
       "      <th>Combined_Key</th>\n",
       "    </tr>\n",
       "  </thead>\n",
       "  <tbody>\n",
       "    <tr>\n",
       "      <th>0</th>\n",
       "      <td>Abbeville</td>\n",
       "      <td>South Carolina</td>\n",
       "      <td>US</td>\n",
       "      <td>34.223334</td>\n",
       "      <td>-82.461707</td>\n",
       "      <td>35</td>\n",
       "      <td>0</td>\n",
       "      <td>0</td>\n",
       "      <td>35</td>\n",
       "      <td>Abbeville, South Carolina, US</td>\n",
       "    </tr>\n",
       "    <tr>\n",
       "      <th>1</th>\n",
       "      <td>Acadia</td>\n",
       "      <td>Louisiana</td>\n",
       "      <td>US</td>\n",
       "      <td>30.295065</td>\n",
       "      <td>-92.414197</td>\n",
       "      <td>397</td>\n",
       "      <td>22</td>\n",
       "      <td>0</td>\n",
       "      <td>375</td>\n",
       "      <td>Acadia, Louisiana, US</td>\n",
       "    </tr>\n",
       "    <tr>\n",
       "      <th>2</th>\n",
       "      <td>Accomack</td>\n",
       "      <td>Virginia</td>\n",
       "      <td>US</td>\n",
       "      <td>37.767072</td>\n",
       "      <td>-75.632346</td>\n",
       "      <td>780</td>\n",
       "      <td>12</td>\n",
       "      <td>0</td>\n",
       "      <td>768</td>\n",
       "      <td>Accomack, Virginia, US</td>\n",
       "    </tr>\n",
       "    <tr>\n",
       "      <th>3</th>\n",
       "      <td>Ada</td>\n",
       "      <td>Idaho</td>\n",
       "      <td>US</td>\n",
       "      <td>43.452658</td>\n",
       "      <td>-116.241552</td>\n",
       "      <td>798</td>\n",
       "      <td>22</td>\n",
       "      <td>0</td>\n",
       "      <td>776</td>\n",
       "      <td>Ada, Idaho, US</td>\n",
       "    </tr>\n",
       "    <tr>\n",
       "      <th>4</th>\n",
       "      <td>Adair</td>\n",
       "      <td>Iowa</td>\n",
       "      <td>US</td>\n",
       "      <td>41.330756</td>\n",
       "      <td>-94.471059</td>\n",
       "      <td>7</td>\n",
       "      <td>0</td>\n",
       "      <td>0</td>\n",
       "      <td>7</td>\n",
       "      <td>Adair, Iowa, US</td>\n",
       "    </tr>\n",
       "  </tbody>\n",
       "</table>\n",
       "</div>"
      ],
      "text/plain": [
       "      County  Province_State Country_Region        Lat        Long  Confirmed  \\\n",
       "0  Abbeville  South Carolina             US  34.223334  -82.461707         35   \n",
       "1     Acadia       Louisiana             US  30.295065  -92.414197        397   \n",
       "2   Accomack        Virginia             US  37.767072  -75.632346        780   \n",
       "3        Ada           Idaho             US  43.452658 -116.241552        798   \n",
       "4      Adair            Iowa             US  41.330756  -94.471059          7   \n",
       "\n",
       "   Deaths  Recovered  Active                   Combined_Key  \n",
       "0       0          0      35  Abbeville, South Carolina, US  \n",
       "1      22          0     375          Acadia, Louisiana, US  \n",
       "2      12          0     768         Accomack, Virginia, US  \n",
       "3      22          0     776                 Ada, Idaho, US  \n",
       "4       0          0       7                Adair, Iowa, US  "
      ]
     },
     "execution_count": 44,
     "metadata": {},
     "output_type": "execute_result"
    }
   ],
   "source": [
    "drop = ['fatalities']\n",
    "\n",
    "covid = covid.drop(drop, axis=1)\n",
    "covid.head()"
   ]
  },
  {
   "cell_type": "code",
   "execution_count": 45,
   "metadata": {
    "scrolled": true
   },
   "outputs": [
    {
     "data": {
      "text/html": [
       "<div>\n",
       "<style scoped>\n",
       "    .dataframe tbody tr th:only-of-type {\n",
       "        vertical-align: middle;\n",
       "    }\n",
       "\n",
       "    .dataframe tbody tr th {\n",
       "        vertical-align: top;\n",
       "    }\n",
       "\n",
       "    .dataframe thead th {\n",
       "        text-align: right;\n",
       "    }\n",
       "</style>\n",
       "<table border=\"1\" class=\"dataframe\">\n",
       "  <thead>\n",
       "    <tr style=\"text-align: right;\">\n",
       "      <th></th>\n",
       "      <th>Lat</th>\n",
       "      <th>Long</th>\n",
       "      <th>Confirmed</th>\n",
       "      <th>Deaths</th>\n",
       "      <th>Recovered</th>\n",
       "      <th>Active</th>\n",
       "    </tr>\n",
       "  </thead>\n",
       "  <tbody>\n",
       "    <tr>\n",
       "      <th>0</th>\n",
       "      <td>34.223334</td>\n",
       "      <td>-82.461707</td>\n",
       "      <td>35</td>\n",
       "      <td>0</td>\n",
       "      <td>0</td>\n",
       "      <td>35</td>\n",
       "    </tr>\n",
       "    <tr>\n",
       "      <th>1</th>\n",
       "      <td>30.295065</td>\n",
       "      <td>-92.414197</td>\n",
       "      <td>397</td>\n",
       "      <td>22</td>\n",
       "      <td>0</td>\n",
       "      <td>375</td>\n",
       "    </tr>\n",
       "    <tr>\n",
       "      <th>2</th>\n",
       "      <td>37.767072</td>\n",
       "      <td>-75.632346</td>\n",
       "      <td>780</td>\n",
       "      <td>12</td>\n",
       "      <td>0</td>\n",
       "      <td>768</td>\n",
       "    </tr>\n",
       "    <tr>\n",
       "      <th>3</th>\n",
       "      <td>43.452658</td>\n",
       "      <td>-116.241552</td>\n",
       "      <td>798</td>\n",
       "      <td>22</td>\n",
       "      <td>0</td>\n",
       "      <td>776</td>\n",
       "    </tr>\n",
       "    <tr>\n",
       "      <th>4</th>\n",
       "      <td>41.330756</td>\n",
       "      <td>-94.471059</td>\n",
       "      <td>7</td>\n",
       "      <td>0</td>\n",
       "      <td>0</td>\n",
       "      <td>7</td>\n",
       "    </tr>\n",
       "    <tr>\n",
       "      <th>...</th>\n",
       "      <td>...</td>\n",
       "      <td>...</td>\n",
       "      <td>...</td>\n",
       "      <td>...</td>\n",
       "      <td>...</td>\n",
       "      <td>...</td>\n",
       "    </tr>\n",
       "    <tr>\n",
       "      <th>3409</th>\n",
       "      <td>31.952200</td>\n",
       "      <td>35.233200</td>\n",
       "      <td>434</td>\n",
       "      <td>3</td>\n",
       "      <td>365</td>\n",
       "      <td>66</td>\n",
       "    </tr>\n",
       "    <tr>\n",
       "      <th>3410</th>\n",
       "      <td>24.215500</td>\n",
       "      <td>-12.885800</td>\n",
       "      <td>9</td>\n",
       "      <td>1</td>\n",
       "      <td>6</td>\n",
       "      <td>2</td>\n",
       "    </tr>\n",
       "    <tr>\n",
       "      <th>3411</th>\n",
       "      <td>15.552727</td>\n",
       "      <td>48.516388</td>\n",
       "      <td>256</td>\n",
       "      <td>53</td>\n",
       "      <td>10</td>\n",
       "      <td>193</td>\n",
       "    </tr>\n",
       "    <tr>\n",
       "      <th>3412</th>\n",
       "      <td>-13.133897</td>\n",
       "      <td>27.849332</td>\n",
       "      <td>1057</td>\n",
       "      <td>7</td>\n",
       "      <td>779</td>\n",
       "      <td>271</td>\n",
       "    </tr>\n",
       "    <tr>\n",
       "      <th>3413</th>\n",
       "      <td>-19.015438</td>\n",
       "      <td>29.154857</td>\n",
       "      <td>132</td>\n",
       "      <td>4</td>\n",
       "      <td>25</td>\n",
       "      <td>103</td>\n",
       "    </tr>\n",
       "  </tbody>\n",
       "</table>\n",
       "<p>3414 rows × 6 columns</p>\n",
       "</div>"
      ],
      "text/plain": [
       "            Lat        Long  Confirmed  Deaths  Recovered  Active\n",
       "0     34.223334  -82.461707         35       0          0      35\n",
       "1     30.295065  -92.414197        397      22          0     375\n",
       "2     37.767072  -75.632346        780      12          0     768\n",
       "3     43.452658 -116.241552        798      22          0     776\n",
       "4     41.330756  -94.471059          7       0          0       7\n",
       "...         ...         ...        ...     ...        ...     ...\n",
       "3409  31.952200   35.233200        434       3        365      66\n",
       "3410  24.215500  -12.885800          9       1          6       2\n",
       "3411  15.552727   48.516388        256      53         10     193\n",
       "3412 -13.133897   27.849332       1057       7        779     271\n",
       "3413 -19.015438   29.154857        132       4         25     103\n",
       "\n",
       "[3414 rows x 6 columns]"
      ]
     },
     "execution_count": 45,
     "metadata": {},
     "output_type": "execute_result"
    }
   ],
   "source": [
    "# select numerical columns\n",
    "numerical_data = covid.select_dtypes(np.number).fillna(0)\n",
    "numerical_data"
   ]
  },
  {
   "cell_type": "code",
   "execution_count": 46,
   "metadata": {},
   "outputs": [
    {
     "data": {
      "text/plain": [
       "Index(['Lat', 'Long', 'Deaths', 'Recovered', 'Active'], dtype='object')"
      ]
     },
     "execution_count": 46,
     "metadata": {},
     "output_type": "execute_result"
    }
   ],
   "source": [
    "# split the numerical data into training and test sets\n",
    "from sklearn.model_selection import train_test_split\n",
    "\n",
    "target_variable = 'Confirmed'\n",
    "independent_variables = numerical_data.drop(columns = target_variable).columns\n",
    "independent_variables"
   ]
  },
  {
   "cell_type": "code",
   "execution_count": 47,
   "metadata": {},
   "outputs": [],
   "source": [
    "X_train, X_test, y_train, y_test = train_test_split(\n",
    "    numerical_data[independent_variables],\n",
    "    numerical_data[target_variable],\n",
    "    test_size=0.2,\n",
    "    random_state=13\n",
    ")"
   ]
  },
  {
   "cell_type": "code",
   "execution_count": 48,
   "metadata": {},
   "outputs": [
    {
     "name": "stdout",
     "output_type": "stream",
     "text": [
      "X_train (2731, 5)\n",
      "y_train (2731,)\n",
      "X_test (683, 5)\n",
      "y_test (683,)\n"
     ]
    }
   ],
   "source": [
    "print('X_train', X_train.shape)\n",
    "print('y_train', y_train.shape)\n",
    "print('X_test',  X_test.shape)\n",
    "print('y_test',  y_test.shape)"
   ]
  },
  {
   "cell_type": "code",
   "execution_count": 49,
   "metadata": {},
   "outputs": [
    {
     "data": {
      "text/plain": [
       "LinearRegression(copy_X=True, fit_intercept=True, n_jobs=None, normalize=False)"
      ]
     },
     "execution_count": 49,
     "metadata": {},
     "output_type": "execute_result"
    }
   ],
   "source": [
    "# create a linear regression model and fit it with the training set\n",
    "from sklearn.linear_model import LinearRegression\n",
    "model = LinearRegression()\n",
    "model.fit(X_train, y_train)"
   ]
  },
  {
   "cell_type": "code",
   "execution_count": 50,
   "metadata": {},
   "outputs": [
    {
     "name": "stdout",
     "output_type": "stream",
     "text": [
      "16.16664689321601\n",
      "[1.5421561  0.87551992 0.88723283 0.97031154 1.02410427]\n"
     ]
    }
   ],
   "source": [
    "print(model.intercept_)\n",
    "\n",
    "print(model.coef_)"
   ]
  },
  {
   "cell_type": "code",
   "execution_count": 51,
   "metadata": {},
   "outputs": [],
   "source": [
    "# predict confirmed using test set\n",
    "predictions = model.predict(X_test)"
   ]
  },
  {
   "cell_type": "code",
   "execution_count": 52,
   "metadata": {},
   "outputs": [
    {
     "data": {
      "text/html": [
       "<div>\n",
       "<style scoped>\n",
       "    .dataframe tbody tr th:only-of-type {\n",
       "        vertical-align: middle;\n",
       "    }\n",
       "\n",
       "    .dataframe tbody tr th {\n",
       "        vertical-align: top;\n",
       "    }\n",
       "\n",
       "    .dataframe thead th {\n",
       "        text-align: right;\n",
       "    }\n",
       "</style>\n",
       "<table border=\"1\" class=\"dataframe\">\n",
       "  <thead>\n",
       "    <tr style=\"text-align: right;\">\n",
       "      <th></th>\n",
       "      <th>index</th>\n",
       "      <th>Lat</th>\n",
       "      <th>Long</th>\n",
       "      <th>Deaths</th>\n",
       "      <th>Recovered</th>\n",
       "      <th>Active</th>\n",
       "      <th>Confirmed</th>\n",
       "      <th>prediction</th>\n",
       "    </tr>\n",
       "  </thead>\n",
       "  <tbody>\n",
       "    <tr>\n",
       "      <th>0</th>\n",
       "      <td>1372</td>\n",
       "      <td>40.533587</td>\n",
       "      <td>-77.399751</td>\n",
       "      <td>4</td>\n",
       "      <td>0</td>\n",
       "      <td>91</td>\n",
       "      <td>95</td>\n",
       "      <td>107.653162</td>\n",
       "    </tr>\n",
       "    <tr>\n",
       "      <th>1</th>\n",
       "      <td>2663</td>\n",
       "      <td>43.344594</td>\n",
       "      <td>-99.885489</td>\n",
       "      <td>0</td>\n",
       "      <td>0</td>\n",
       "      <td>6</td>\n",
       "      <td>6</td>\n",
       "      <td>1.703667</td>\n",
       "    </tr>\n",
       "    <tr>\n",
       "      <th>2</th>\n",
       "      <td>3296</td>\n",
       "      <td>42.315400</td>\n",
       "      <td>43.356900</td>\n",
       "      <td>12</td>\n",
       "      <td>557</td>\n",
       "      <td>166</td>\n",
       "      <td>735</td>\n",
       "      <td>840.495058</td>\n",
       "    </tr>\n",
       "    <tr>\n",
       "      <th>3</th>\n",
       "      <td>1206</td>\n",
       "      <td>42.455221</td>\n",
       "      <td>-98.784026</td>\n",
       "      <td>0</td>\n",
       "      <td>0</td>\n",
       "      <td>1</td>\n",
       "      <td>1</td>\n",
       "      <td>-3.824053</td>\n",
       "    </tr>\n",
       "    <tr>\n",
       "      <th>4</th>\n",
       "      <td>2191</td>\n",
       "      <td>36.859148</td>\n",
       "      <td>-76.359716</td>\n",
       "      <td>11</td>\n",
       "      <td>0</td>\n",
       "      <td>271</td>\n",
       "      <td>282</td>\n",
       "      <td>293.446572</td>\n",
       "    </tr>\n",
       "  </tbody>\n",
       "</table>\n",
       "</div>"
      ],
      "text/plain": [
       "   index        Lat       Long  Deaths  Recovered  Active  Confirmed  \\\n",
       "0   1372  40.533587 -77.399751       4          0      91         95   \n",
       "1   2663  43.344594 -99.885489       0          0       6          6   \n",
       "2   3296  42.315400  43.356900      12        557     166        735   \n",
       "3   1206  42.455221 -98.784026       0          0       1          1   \n",
       "4   2191  36.859148 -76.359716      11          0     271        282   \n",
       "\n",
       "   prediction  \n",
       "0  107.653162  \n",
       "1    1.703667  \n",
       "2  840.495058  \n",
       "3   -3.824053  \n",
       "4  293.446572  "
      ]
     },
     "execution_count": 52,
     "metadata": {},
     "output_type": "execute_result"
    }
   ],
   "source": [
    "X = X_test.reset_index().copy()\n",
    "X['Confirmed'] = y_test.tolist()\n",
    "X['prediction'] = predictions\n",
    "X.head()"
   ]
  },
  {
   "cell_type": "code",
   "execution_count": 53,
   "metadata": {},
   "outputs": [
    {
     "data": {
      "text/plain": [
       "<seaborn.axisgrid.FacetGrid at 0x1a1f77a450>"
      ]
     },
     "execution_count": 53,
     "metadata": {},
     "output_type": "execute_result"
    },
    {
     "data": {
      "image/png": "[encoded data removed]",
      "text/plain": [
       "<Figure size 360x360 with 1 Axes>"
      ]
     },
     "metadata": {
      "needs_background": "light"
     },
     "output_type": "display_data"
    }
   ],
   "source": [
    "# visualize the actual confirmed against predicted \n",
    "sns.relplot(x='Confirmed', y='prediction', data=X, kind='scatter')"
   ]
  },
  {
   "cell_type": "code",
   "execution_count": 54,
   "metadata": {
    "scrolled": false
   },
   "outputs": [
    {
     "data": {
      "image/png": "[encoded data removed]",
      "text/plain": [
       "<Figure size 432x288 with 1 Axes>"
      ]
     },
     "metadata": {
      "needs_background": "light"
     },
     "output_type": "display_data"
    }
   ],
   "source": [
    "#visualize latitude against confirmed\n",
    "sns.scatterplot(x=X[\"Lat\"], y=X[\"Confirmed\"], label = 'Target(truth)')\n",
    "sns.scatterplot(x=X[\"Lat\"], y=X[\"prediction\"], label = 'Predictions')\n",
    "sns.mpl.pyplot.ylabel(\"Confirmed cases\");"
   ]
  },
  {
   "cell_type": "markdown",
   "metadata": {},
   "source": [
    "# Cross Validation"
   ]
  },
  {
   "cell_type": "code",
   "execution_count": 61,
   "metadata": {},
   "outputs": [],
   "source": [
    "from sklearn.model_selection import cross_val_score\n",
    "from sklearn.linear_model import LinearRegression"
   ]
  },
  {
   "cell_type": "code",
   "execution_count": 62,
   "metadata": {},
   "outputs": [],
   "source": [
    "model = LinearRegression()"
   ]
  },
  {
   "cell_type": "code",
   "execution_count": 63,
   "metadata": {},
   "outputs": [],
   "source": [
    "from sklearn.metrics import SCORERS"
   ]
  },
  {
   "cell_type": "code",
   "execution_count": 64,
   "metadata": {},
   "outputs": [],
   "source": [
    "results_cross_validation = cross_val_score(\n",
    "    estimator=model, \n",
    "    X=numerical_data[independent_variables],\n",
    "    y=numerical_data[target_variable],\n",
    "    scoring=\"neg_mean_absolute_error\", \n",
    "    cv=5,\n",
    ")\n",
    "\n",
    "# 5 repetitions means 5 cv"
   ]
  },
  {
   "cell_type": "code",
   "execution_count": 65,
   "metadata": {},
   "outputs": [
    {
     "data": {
      "text/plain": [
       "array([  -14.67441074,   -14.85317946,   -23.02537247,   -15.30256467,\n",
       "       -3405.71407625])"
      ]
     },
     "execution_count": 65,
     "metadata": {},
     "output_type": "execute_result"
    }
   ],
   "source": [
    "results_cross_validation"
   ]
  },
  {
   "cell_type": "code",
   "execution_count": 66,
   "metadata": {},
   "outputs": [
    {
     "data": {
      "text/plain": [
       "-694.71392071692"
      ]
     },
     "execution_count": 66,
     "metadata": {},
     "output_type": "execute_result"
    }
   ],
   "source": [
    "model_mae = results_cross_validation.mean()\n",
    "model_mae"
   ]
  },
  {
   "cell_type": "markdown",
   "metadata": {},
   "source": [
    "# Timeseries"
   ]
  },
  {
   "cell_type": "markdown",
   "metadata": {},
   "source": [
    "Importing data over time:"
   ]
  },
  {
   "cell_type": "code",
   "execution_count": 67,
   "metadata": {},
   "outputs": [],
   "source": [
    "import pandas as pd\n",
    "january = pd.read_csv(\"januarycovid.csv\")\n",
    "february = pd.read_csv(\"februarycovid.csv\")\n",
    "march = pd.read_csv(\"marchcovid.csv\")\n",
    "april = pd.read_csv(\"aprilcovid.csv\")\n",
    "may = pd.read_csv(\"maycovid.csv\")"
   ]
  },
  {
   "cell_type": "code",
   "execution_count": 68,
   "metadata": {},
   "outputs": [],
   "source": [
    "january.rename(columns={\"Province/State\":\"Province_State\"}, inplace=True)\n",
    "january.rename(columns={\"Country/Region\":\"Country_Region\"}, inplace=True)\n",
    "january.rename(columns={\"Last Update\":\"Date\"}, inplace=True)\n",
    "\n",
    "february.rename(columns={\"Province/State\":\"Province_State\"}, inplace=True)\n",
    "february.rename(columns={\"Country/Region\":\"Country_Region\"}, inplace=True)\n",
    "february.rename(columns={\"Last Update\":\"Date\"}, inplace=True)\n",
    "\n",
    "del_col_list = ['FIPS', 'Admin2', 'Lat', 'Long_', 'Active', 'Combined_Key']\n",
    "march = march.drop(del_col_list, axis=1)\n",
    "\n",
    "del_col_list = ['FIPS', 'Admin2', 'Lat', 'Long_', 'Active', 'Combined_Key']\n",
    "april = april.drop(del_col_list, axis=1)\n",
    "\n",
    "del_col_list = ['FIPS', 'Admin2', 'Lat', 'Long_', 'Active', 'Combined_Key']\n",
    "may = may.drop(del_col_list, axis=1)"
   ]
  },
  {
   "cell_type": "code",
   "execution_count": 69,
   "metadata": {},
   "outputs": [],
   "source": [
    "march.rename(columns={\"Last_Update\":\"Date\"}, inplace=True)\n",
    "april.rename(columns={\"Last_Update\":\"Date\"}, inplace=True)\n",
    "may.rename(columns={\"Last_Update\":\"Date\"}, inplace=True)"
   ]
  },
  {
   "cell_type": "code",
   "execution_count": 70,
   "metadata": {},
   "outputs": [
    {
     "data": {
      "text/html": [
       "<div>\n",
       "<style scoped>\n",
       "    .dataframe tbody tr th:only-of-type {\n",
       "        vertical-align: middle;\n",
       "    }\n",
       "\n",
       "    .dataframe tbody tr th {\n",
       "        vertical-align: top;\n",
       "    }\n",
       "\n",
       "    .dataframe thead th {\n",
       "        text-align: right;\n",
       "    }\n",
       "</style>\n",
       "<table border=\"1\" class=\"dataframe\">\n",
       "  <thead>\n",
       "    <tr style=\"text-align: right;\">\n",
       "      <th></th>\n",
       "      <th>Province_State</th>\n",
       "      <th>Country_Region</th>\n",
       "      <th>Date</th>\n",
       "      <th>Confirmed</th>\n",
       "      <th>Deaths</th>\n",
       "      <th>Recovered</th>\n",
       "    </tr>\n",
       "  </thead>\n",
       "  <tbody>\n",
       "    <tr>\n",
       "      <th>0</th>\n",
       "      <td>Hubei</td>\n",
       "      <td>Mainland China</td>\n",
       "      <td>1/28/20 23:00</td>\n",
       "      <td>3554</td>\n",
       "      <td>125.0</td>\n",
       "      <td>80.0</td>\n",
       "    </tr>\n",
       "    <tr>\n",
       "      <th>1</th>\n",
       "      <td>Guangdong</td>\n",
       "      <td>Mainland China</td>\n",
       "      <td>1/28/20 23:00</td>\n",
       "      <td>207</td>\n",
       "      <td>NaN</td>\n",
       "      <td>4.0</td>\n",
       "    </tr>\n",
       "    <tr>\n",
       "      <th>2</th>\n",
       "      <td>Zhejiang</td>\n",
       "      <td>Mainland China</td>\n",
       "      <td>1/28/20 23:00</td>\n",
       "      <td>173</td>\n",
       "      <td>NaN</td>\n",
       "      <td>3.0</td>\n",
       "    </tr>\n",
       "    <tr>\n",
       "      <th>3</th>\n",
       "      <td>Henan</td>\n",
       "      <td>Mainland China</td>\n",
       "      <td>1/28/20 23:00</td>\n",
       "      <td>168</td>\n",
       "      <td>1.0</td>\n",
       "      <td>NaN</td>\n",
       "    </tr>\n",
       "    <tr>\n",
       "      <th>4</th>\n",
       "      <td>Hunan</td>\n",
       "      <td>Mainland China</td>\n",
       "      <td>1/28/20 23:00</td>\n",
       "      <td>143</td>\n",
       "      <td>NaN</td>\n",
       "      <td>NaN</td>\n",
       "    </tr>\n",
       "    <tr>\n",
       "      <th>...</th>\n",
       "      <td>...</td>\n",
       "      <td>...</td>\n",
       "      <td>...</td>\n",
       "      <td>...</td>\n",
       "      <td>...</td>\n",
       "      <td>...</td>\n",
       "    </tr>\n",
       "    <tr>\n",
       "      <th>10168</th>\n",
       "      <td>NaN</td>\n",
       "      <td>West Bank and Gaza</td>\n",
       "      <td>2020-05-28 02:32:31</td>\n",
       "      <td>434</td>\n",
       "      <td>3.0</td>\n",
       "      <td>365.0</td>\n",
       "    </tr>\n",
       "    <tr>\n",
       "      <th>10169</th>\n",
       "      <td>NaN</td>\n",
       "      <td>Western Sahara</td>\n",
       "      <td>2020-05-28 02:32:31</td>\n",
       "      <td>9</td>\n",
       "      <td>1.0</td>\n",
       "      <td>6.0</td>\n",
       "    </tr>\n",
       "    <tr>\n",
       "      <th>10170</th>\n",
       "      <td>NaN</td>\n",
       "      <td>Yemen</td>\n",
       "      <td>2020-05-28 02:32:31</td>\n",
       "      <td>256</td>\n",
       "      <td>53.0</td>\n",
       "      <td>10.0</td>\n",
       "    </tr>\n",
       "    <tr>\n",
       "      <th>10171</th>\n",
       "      <td>NaN</td>\n",
       "      <td>Zambia</td>\n",
       "      <td>2020-05-28 02:32:31</td>\n",
       "      <td>1057</td>\n",
       "      <td>7.0</td>\n",
       "      <td>779.0</td>\n",
       "    </tr>\n",
       "    <tr>\n",
       "      <th>10172</th>\n",
       "      <td>NaN</td>\n",
       "      <td>Zimbabwe</td>\n",
       "      <td>2020-05-28 02:32:31</td>\n",
       "      <td>132</td>\n",
       "      <td>4.0</td>\n",
       "      <td>25.0</td>\n",
       "    </tr>\n",
       "  </tbody>\n",
       "</table>\n",
       "<p>10173 rows × 6 columns</p>\n",
       "</div>"
      ],
      "text/plain": [
       "      Province_State      Country_Region                 Date  Confirmed  \\\n",
       "0              Hubei      Mainland China        1/28/20 23:00       3554   \n",
       "1          Guangdong      Mainland China        1/28/20 23:00        207   \n",
       "2           Zhejiang      Mainland China        1/28/20 23:00        173   \n",
       "3              Henan      Mainland China        1/28/20 23:00        168   \n",
       "4              Hunan      Mainland China        1/28/20 23:00        143   \n",
       "...              ...                 ...                  ...        ...   \n",
       "10168            NaN  West Bank and Gaza  2020-05-28 02:32:31        434   \n",
       "10169            NaN      Western Sahara  2020-05-28 02:32:31          9   \n",
       "10170            NaN               Yemen  2020-05-28 02:32:31        256   \n",
       "10171            NaN              Zambia  2020-05-28 02:32:31       1057   \n",
       "10172            NaN            Zimbabwe  2020-05-28 02:32:31        132   \n",
       "\n",
       "       Deaths  Recovered  \n",
       "0       125.0       80.0  \n",
       "1         NaN        4.0  \n",
       "2         NaN        3.0  \n",
       "3         1.0        NaN  \n",
       "4         NaN        NaN  \n",
       "...       ...        ...  \n",
       "10168     3.0      365.0  \n",
       "10169     1.0        6.0  \n",
       "10170    53.0       10.0  \n",
       "10171     7.0      779.0  \n",
       "10172     4.0       25.0  \n",
       "\n",
       "[10173 rows x 6 columns]"
      ]
     },
     "execution_count": 70,
     "metadata": {},
     "output_type": "execute_result"
    }
   ],
   "source": [
    "full_data = pd.concat([january, february, march, april, may],ignore_index=True)\n",
    "full_data"
   ]
  },
  {
   "cell_type": "code",
   "execution_count": 71,
   "metadata": {},
   "outputs": [
    {
     "name": "stderr",
     "output_type": "stream",
     "text": [
      "/Users/elysemigdal/opt/anaconda3/lib/python3.7/site-packages/ipykernel_launcher.py:1: FutureWarning: Indexing with multiple keys (implicitly converted to a tuple of keys) will be deprecated, use a list instead.\n",
      "  \"\"\"Entry point for launching an IPython kernel.\n"
     ]
    },
    {
     "data": {
      "text/html": [
       "<div>\n",
       "<style scoped>\n",
       "    .dataframe tbody tr th:only-of-type {\n",
       "        vertical-align: middle;\n",
       "    }\n",
       "\n",
       "    .dataframe tbody tr th {\n",
       "        vertical-align: top;\n",
       "    }\n",
       "\n",
       "    .dataframe thead th {\n",
       "        text-align: right;\n",
       "    }\n",
       "</style>\n",
       "<table border=\"1\" class=\"dataframe\">\n",
       "  <thead>\n",
       "    <tr style=\"text-align: right;\">\n",
       "      <th></th>\n",
       "      <th>Date</th>\n",
       "      <th>Country_Region</th>\n",
       "      <th>Province_State</th>\n",
       "      <th>Confirmed</th>\n",
       "      <th>Deaths</th>\n",
       "      <th>Recovered</th>\n",
       "    </tr>\n",
       "  </thead>\n",
       "  <tbody>\n",
       "    <tr>\n",
       "      <th>0</th>\n",
       "      <td>1/28/20 23:00</td>\n",
       "      <td>Australia</td>\n",
       "      <td>New South Wales</td>\n",
       "      <td>4</td>\n",
       "      <td>0.0</td>\n",
       "      <td>0.0</td>\n",
       "    </tr>\n",
       "    <tr>\n",
       "      <th>1</th>\n",
       "      <td>1/28/20 23:00</td>\n",
       "      <td>Australia</td>\n",
       "      <td>Victoria</td>\n",
       "      <td>1</td>\n",
       "      <td>0.0</td>\n",
       "      <td>0.0</td>\n",
       "    </tr>\n",
       "    <tr>\n",
       "      <th>2</th>\n",
       "      <td>1/28/20 23:00</td>\n",
       "      <td>Canada</td>\n",
       "      <td>British Columbia</td>\n",
       "      <td>1</td>\n",
       "      <td>0.0</td>\n",
       "      <td>0.0</td>\n",
       "    </tr>\n",
       "    <tr>\n",
       "      <th>3</th>\n",
       "      <td>1/28/20 23:00</td>\n",
       "      <td>Canada</td>\n",
       "      <td>Ontario</td>\n",
       "      <td>1</td>\n",
       "      <td>0.0</td>\n",
       "      <td>0.0</td>\n",
       "    </tr>\n",
       "    <tr>\n",
       "      <th>4</th>\n",
       "      <td>1/28/20 23:00</td>\n",
       "      <td>Germany</td>\n",
       "      <td>Bavaria</td>\n",
       "      <td>4</td>\n",
       "      <td>0.0</td>\n",
       "      <td>0.0</td>\n",
       "    </tr>\n",
       "    <tr>\n",
       "      <th>...</th>\n",
       "      <td>...</td>\n",
       "      <td>...</td>\n",
       "      <td>...</td>\n",
       "      <td>...</td>\n",
       "      <td>...</td>\n",
       "      <td>...</td>\n",
       "    </tr>\n",
       "    <tr>\n",
       "      <th>650</th>\n",
       "      <td>3/28/20 2:33</td>\n",
       "      <td>China</td>\n",
       "      <td>Gansu</td>\n",
       "      <td>136</td>\n",
       "      <td>2.0</td>\n",
       "      <td>125.0</td>\n",
       "    </tr>\n",
       "    <tr>\n",
       "      <th>651</th>\n",
       "      <td>3/28/20 6:15</td>\n",
       "      <td>China</td>\n",
       "      <td>Beijing</td>\n",
       "      <td>573</td>\n",
       "      <td>8.0</td>\n",
       "      <td>410.0</td>\n",
       "    </tr>\n",
       "    <tr>\n",
       "      <th>652</th>\n",
       "      <td>3/28/20 8:36</td>\n",
       "      <td>China</td>\n",
       "      <td>Tianjin</td>\n",
       "      <td>161</td>\n",
       "      <td>3.0</td>\n",
       "      <td>133.0</td>\n",
       "    </tr>\n",
       "    <tr>\n",
       "      <th>653</th>\n",
       "      <td>3/8/20 5:19</td>\n",
       "      <td>China</td>\n",
       "      <td>Anhui</td>\n",
       "      <td>990</td>\n",
       "      <td>6.0</td>\n",
       "      <td>984.0</td>\n",
       "    </tr>\n",
       "    <tr>\n",
       "      <th>654</th>\n",
       "      <td>3/8/20 5:31</td>\n",
       "      <td>China</td>\n",
       "      <td>Xinjiang</td>\n",
       "      <td>76</td>\n",
       "      <td>3.0</td>\n",
       "      <td>73.0</td>\n",
       "    </tr>\n",
       "  </tbody>\n",
       "</table>\n",
       "<p>655 rows × 6 columns</p>\n",
       "</div>"
      ],
      "text/plain": [
       "              Date Country_Region    Province_State  Confirmed  Deaths  \\\n",
       "0    1/28/20 23:00      Australia   New South Wales          4     0.0   \n",
       "1    1/28/20 23:00      Australia          Victoria          1     0.0   \n",
       "2    1/28/20 23:00         Canada  British Columbia          1     0.0   \n",
       "3    1/28/20 23:00         Canada           Ontario          1     0.0   \n",
       "4    1/28/20 23:00        Germany           Bavaria          4     0.0   \n",
       "..             ...            ...               ...        ...     ...   \n",
       "650   3/28/20 2:33          China             Gansu        136     2.0   \n",
       "651   3/28/20 6:15          China           Beijing        573     8.0   \n",
       "652   3/28/20 8:36          China           Tianjin        161     3.0   \n",
       "653    3/8/20 5:19          China             Anhui        990     6.0   \n",
       "654    3/8/20 5:31          China          Xinjiang         76     3.0   \n",
       "\n",
       "     Recovered  \n",
       "0          0.0  \n",
       "1          0.0  \n",
       "2          0.0  \n",
       "3          0.0  \n",
       "4          0.0  \n",
       "..         ...  \n",
       "650      125.0  \n",
       "651      410.0  \n",
       "652      133.0  \n",
       "653      984.0  \n",
       "654       73.0  \n",
       "\n",
       "[655 rows x 6 columns]"
      ]
     },
     "execution_count": 71,
     "metadata": {},
     "output_type": "execute_result"
    }
   ],
   "source": [
    "data = full_data.groupby([\"Date\", \"Country_Region\", \"Province_State\"])[\"Confirmed\", \"Deaths\", \"Recovered\"].sum().reset_index()\n",
    "data"
   ]
  },
  {
   "cell_type": "code",
   "execution_count": 72,
   "metadata": {},
   "outputs": [
    {
     "data": {
      "text/html": [
       "<div>\n",
       "<style scoped>\n",
       "    .dataframe tbody tr th:only-of-type {\n",
       "        vertical-align: middle;\n",
       "    }\n",
       "\n",
       "    .dataframe tbody tr th {\n",
       "        vertical-align: top;\n",
       "    }\n",
       "\n",
       "    .dataframe thead th {\n",
       "        text-align: right;\n",
       "    }\n",
       "</style>\n",
       "<table border=\"1\" class=\"dataframe\">\n",
       "  <thead>\n",
       "    <tr style=\"text-align: right;\">\n",
       "      <th></th>\n",
       "      <th>Date</th>\n",
       "      <th>Country_Region</th>\n",
       "      <th>Province_State</th>\n",
       "      <th>Confirmed</th>\n",
       "      <th>Deaths</th>\n",
       "      <th>Recovered</th>\n",
       "    </tr>\n",
       "  </thead>\n",
       "  <tbody>\n",
       "    <tr>\n",
       "      <th>38</th>\n",
       "      <td>1/28/20 23:00</td>\n",
       "      <td>US</td>\n",
       "      <td>Arizona</td>\n",
       "      <td>1</td>\n",
       "      <td>0.0</td>\n",
       "      <td>0.0</td>\n",
       "    </tr>\n",
       "    <tr>\n",
       "      <th>39</th>\n",
       "      <td>1/28/20 23:00</td>\n",
       "      <td>US</td>\n",
       "      <td>California</td>\n",
       "      <td>2</td>\n",
       "      <td>0.0</td>\n",
       "      <td>0.0</td>\n",
       "    </tr>\n",
       "    <tr>\n",
       "      <th>40</th>\n",
       "      <td>1/28/20 23:00</td>\n",
       "      <td>US</td>\n",
       "      <td>Illinois</td>\n",
       "      <td>1</td>\n",
       "      <td>0.0</td>\n",
       "      <td>0.0</td>\n",
       "    </tr>\n",
       "    <tr>\n",
       "      <th>41</th>\n",
       "      <td>1/28/20 23:00</td>\n",
       "      <td>US</td>\n",
       "      <td>Washington</td>\n",
       "      <td>1</td>\n",
       "      <td>0.0</td>\n",
       "      <td>0.0</td>\n",
       "    </tr>\n",
       "    <tr>\n",
       "      <th>44</th>\n",
       "      <td>2020-02-01T19:53:03</td>\n",
       "      <td>US</td>\n",
       "      <td>Los Angeles, CA</td>\n",
       "      <td>1</td>\n",
       "      <td>0.0</td>\n",
       "      <td>0.0</td>\n",
       "    </tr>\n",
       "    <tr>\n",
       "      <th>...</th>\n",
       "      <td>...</td>\n",
       "      <td>...</td>\n",
       "      <td>...</td>\n",
       "      <td>...</td>\n",
       "      <td>...</td>\n",
       "      <td>...</td>\n",
       "    </tr>\n",
       "    <tr>\n",
       "      <th>609</th>\n",
       "      <td>3/28/20 23:05</td>\n",
       "      <td>US</td>\n",
       "      <td>Virginia</td>\n",
       "      <td>740</td>\n",
       "      <td>13.0</td>\n",
       "      <td>0.0</td>\n",
       "    </tr>\n",
       "    <tr>\n",
       "      <th>610</th>\n",
       "      <td>3/28/20 23:05</td>\n",
       "      <td>US</td>\n",
       "      <td>Washington</td>\n",
       "      <td>4030</td>\n",
       "      <td>188.0</td>\n",
       "      <td>0.0</td>\n",
       "    </tr>\n",
       "    <tr>\n",
       "      <th>611</th>\n",
       "      <td>3/28/20 23:05</td>\n",
       "      <td>US</td>\n",
       "      <td>West Virginia</td>\n",
       "      <td>96</td>\n",
       "      <td>0.0</td>\n",
       "      <td>0.0</td>\n",
       "    </tr>\n",
       "    <tr>\n",
       "      <th>612</th>\n",
       "      <td>3/28/20 23:05</td>\n",
       "      <td>US</td>\n",
       "      <td>Wisconsin</td>\n",
       "      <td>1055</td>\n",
       "      <td>17.0</td>\n",
       "      <td>0.0</td>\n",
       "    </tr>\n",
       "    <tr>\n",
       "      <th>613</th>\n",
       "      <td>3/28/20 23:05</td>\n",
       "      <td>US</td>\n",
       "      <td>Wyoming</td>\n",
       "      <td>82</td>\n",
       "      <td>0.0</td>\n",
       "      <td>0.0</td>\n",
       "    </tr>\n",
       "  </tbody>\n",
       "</table>\n",
       "<p>196 rows × 6 columns</p>\n",
       "</div>"
      ],
      "text/plain": [
       "                    Date Country_Region   Province_State  Confirmed  Deaths  \\\n",
       "38         1/28/20 23:00             US          Arizona          1     0.0   \n",
       "39         1/28/20 23:00             US       California          2     0.0   \n",
       "40         1/28/20 23:00             US         Illinois          1     0.0   \n",
       "41         1/28/20 23:00             US       Washington          1     0.0   \n",
       "44   2020-02-01T19:53:03             US  Los Angeles, CA          1     0.0   \n",
       "..                   ...            ...              ...        ...     ...   \n",
       "609        3/28/20 23:05             US         Virginia        740    13.0   \n",
       "610        3/28/20 23:05             US       Washington       4030   188.0   \n",
       "611        3/28/20 23:05             US    West Virginia         96     0.0   \n",
       "612        3/28/20 23:05             US        Wisconsin       1055    17.0   \n",
       "613        3/28/20 23:05             US          Wyoming         82     0.0   \n",
       "\n",
       "     Recovered  \n",
       "38         0.0  \n",
       "39         0.0  \n",
       "40         0.0  \n",
       "41         0.0  \n",
       "44         0.0  \n",
       "..         ...  \n",
       "609        0.0  \n",
       "610        0.0  \n",
       "611        0.0  \n",
       "612        0.0  \n",
       "613        0.0  \n",
       "\n",
       "[196 rows x 6 columns]"
      ]
     },
     "execution_count": 72,
     "metadata": {},
     "output_type": "execute_result"
    }
   ],
   "source": [
    "US = data[data[\"Country_Region\"] == \"US\"]\n",
    "US"
   ]
  },
  {
   "cell_type": "code",
   "execution_count": null,
   "metadata": {},
   "outputs": [],
   "source": []
  },
  {
   "cell_type": "code",
   "execution_count": null,
   "metadata": {},
   "outputs": [],
   "source": []
  }
 ],
 "metadata": {
  "kernelspec": {
   "display_name": "Python 3",
   "language": "python",
   "name": "python3"
  },
  "language_info": {
   "codemirror_mode": {
    "name": "ipython",
    "version": 3
   },
   "file_extension": ".py",
   "mimetype": "text/x-python",
   "name": "python",
   "nbconvert_exporter": "python",
   "pygments_lexer": "ipython3",
   "version": "3.7.6"
  }
 },
 "nbformat": 4,
 "nbformat_minor": 4
}
